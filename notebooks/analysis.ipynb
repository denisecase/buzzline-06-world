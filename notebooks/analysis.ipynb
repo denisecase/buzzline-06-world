{
 "cells": [
  {
   "cell_type": "markdown",
   "metadata": {},
   "source": [
    "# Detecting Coordination in Civic Discourse\n",
    "\n",
    "- See [01_coordination_detection.md](../docs/01_coordination_detection.md)\n",
    "- See [02_limitations.md](../docs/02_limitations.md)\n",
    "- See [03_coordination_actors.md](../docs/03_coordination_actors.md)"
   ]
  },
  {
   "cell_type": "markdown",
   "metadata": {},
   "source": [
    "### How Can We Assess Behavior without Reading Content\n",
    "\n",
    "- See [04_content_hashes.md](../docs/04_content_hashes.md)"
   ]
  },
  {
   "cell_type": "markdown",
   "metadata": {},
   "source": [
    "### The Detection Approach (Assess Behavior, Not Content or Posters)\n",
    "\n",
    "- See [05_behavior_and_detection.md](../docs/05_behavior_and_detection.md)"
   ]
  },
  {
   "cell_type": "markdown",
   "metadata": {},
   "source": [
    "## Your Mission\n",
    "\n",
    "You have access to transparency data from **two social media discourse datasets** during local political discussions.\n",
    "\n",
    "- **World A**: Contains transparency data from one world\n",
    "- **World B**: Contains transparency data from another world\n",
    "\n",
    "**Your goal**: Determine which world shows organic civic discourse and which shows signs of coordinated manipulation.\n",
    "\n",
    "Use only behavioral patterns (how much reposting, how new are the accounts, how \"bursty\" is the activity) - no direct inspection of the content or the people posting is needed.\n",
    "\n",
    "### City Calendar (Interesting Events) and Simulation Scope\n",
    "\n",
    "- See [06_calendar_scope.md](../docs/06_calendar_scope.md)"
   ]
  },
  {
   "cell_type": "markdown",
   "metadata": {},
   "source": [
    "## SETUP: Imports & Connect to the Databases\n",
    "\n",
    "As always, we'll start by importing all the packages needed for our notebook. \n",
    "We'll also open a connection to the two databases, one representing World A and one representing World B. "
   ]
  },
  {
   "cell_type": "code",
   "execution_count": 37,
   "metadata": {},
   "outputs": [
    {
     "name": "stdout",
     "output_type": "stream",
     "text": [
      "Connected to civic transparency datasets\n",
      "World A data points: 13500\n",
      "World B data points: 13500\n"
     ]
    }
   ],
   "source": [
    "# imports at the beginning\n",
    "import warnings\n",
    "\n",
    "import duckdb\n",
    "import pandas as pd\n",
    "import plotly.express as px\n",
    "import plotly.graph_objects as go\n",
    "from plotly.subplots import make_subplots\n",
    "\n",
    "warnings.filterwarnings('ignore')\n",
    "\n",
    "# Connect to both datasets\n",
    "world_a = duckdb.connect('../data/worlds/civic_world_a.duckdb')\n",
    "world_b = duckdb.connect('../data/worlds/civic_world_b.duckdb')\n",
    "\n",
    "print(\"Connected to civic transparency datasets\")\n",
    "print(\"World A data points:\", world_a.execute(\"SELECT COUNT(*) FROM transparency_points\").fetchone()[0])\n",
    "print(\"World B data points:\", world_b.execute(\"SELECT COUNT(*) FROM transparency_points\").fetchone()[0])"
   ]
  },
  {
   "cell_type": "markdown",
   "metadata": {},
   "source": [
    "## Explore the Data: What Topics Are Available?\n",
    "\n",
    "These are represented by a unique hash value - we don't need to see what they're saying, instead we find posts and use \"fuzzy hashing\" to see what posts are essentially very similar. Privacy is important, so we'll call each topic by its unique hash value. \n",
    "\n",
    "Analysts have done some **prior work** and estimated what each hash value might represent based on the City Calendar and the posting timing and behavior:\n",
    "\n",
    "- See their estimated mappings at [07_prior_work.md](./07_prior_work.md).\n",
    "- For data definitions, see [08_data_definitions.md](./08_data_definitions.md)"
   ]
  },
  {
   "cell_type": "code",
   "execution_count": 38,
   "metadata": {},
   "outputs": [
    {
     "name": "stdout",
     "output_type": "stream",
     "text": [
      "\n",
      "World A Topics:\n",
      "  15 topics\n",
      "       topic\n",
      "0   i9f8e1c7\n",
      "1   j2a9f5d3\n",
      "2   k6e4b7f1\n",
      "3   c9f6a3d8\n",
      "4   g7c2f9b4\n",
      "5   m4f7e3b8\n",
      "6   e8b3c6f9\n",
      "7   d4e7f2a1\n",
      "8   n1d5a8f2\n",
      "9   b8e4c1f5\n",
      "10  a7f3d9e2\n",
      "11  f1a5d8e2\n",
      "12  h3d6a4e8\n",
      "13  l8c1d9a6\n",
      "14  o7b9e4c1\n"
     ]
    }
   ],
   "source": [
    "# Show unique topics in World A\n",
    "print(\"\\nWorld A Topics:\")\n",
    "topics_a = world_a.execute(\"SELECT DISTINCT topic FROM transparency_series\").df()\n",
    "print(f\"  {len(topics_a)} topics\")\n",
    "print(topics_a.head(15))"
   ]
  },
  {
   "cell_type": "markdown",
   "metadata": {},
   "source": [
    "\n",
    "### Pre-built Analysis Views\n",
    "\n",
    "Each world database includes pre-built SQL views that aggregate the data for easier analysis:\n",
    "\n",
    "- **vw_coordination_summary** - Topic-level coordination metrics\n",
    "- **vw_manipulation_indicators** - High-scoring suspicious events\n",
    "- **vw_account_behavior** - Account age vs automation patterns\n",
    "- **vw_content_patterns** - Content recycling and reshare patterns\n",
    "- **vw_hourly_patterns** - Temporal activity patterns\n",
    "- **vw_world_diagnosis** - Overall world statistics\n"
   ]
  },
  {
   "cell_type": "code",
   "execution_count": 39,
   "metadata": {},
   "outputs": [],
   "source": [
    "# # List available views in World A\n",
    "# print(\"\\nAvailable Views:\")\n",
    "# views = world_a.execute(\"\"\"\n",
    "#     SELECT table_name \n",
    "#     FROM information_schema.tables \n",
    "#     WHERE table_schema = 'main' AND table_name LIKE 'vw_%'\n",
    "#     ORDER BY table_name\n",
    "# \"\"\").df()\n",
    "# display(views)\n"
   ]
  },
  {
   "cell_type": "markdown",
   "metadata": {},
   "source": [
    "## View 1: Coordination Patterns (Across All Topics)\n",
    "\n",
    "Let's start by comparing the overall coordination patterns across all the selected topics."
   ]
  },
  {
   "cell_type": "code",
   "execution_count": 40,
   "metadata": {},
   "outputs": [
    {
     "name": "stdout",
     "output_type": "stream",
     "text": [
      "World A - Coordination Summary:\n",
      "      topic  avg_burst_score  avg_synchrony_index  high_burst_count  \\\n",
      "0  h3d6a4e8            0.155                0.229                 0   \n",
      "1  n1d5a8f2            0.153                0.230                 0   \n",
      "2  d4e7f2a1            0.153                0.224                 0   \n",
      "3  b8e4c1f5            0.150                0.228                 0   \n",
      "4  a7f3d9e2            0.151                0.227                 0   \n",
      "\n",
      "   suspicion_score  \n",
      "0            0.187  \n",
      "1            0.186  \n",
      "2            0.185  \n",
      "3            0.185  \n",
      "4            0.184  \n",
      "\n",
      "World B - Coordination Summary:\n",
      "      topic  avg_burst_score  avg_synchrony_index  high_burst_count  \\\n",
      "0  a7f3d9e2            0.915                0.879               900   \n",
      "1  l8c1d9a6            0.915                0.874               900   \n",
      "2  b8e4c1f5            0.561                0.579               147   \n",
      "3  c9f6a3d8            0.560                0.577               136   \n",
      "4  i9f8e1c7            0.374                0.450                 0   \n",
      "\n",
      "   suspicion_score  \n",
      "0            0.909  \n",
      "1            0.907  \n",
      "2            0.549  \n",
      "3            0.546  \n",
      "4            0.397  \n"
     ]
    }
   ],
   "source": [
    "# Get coordination summaries for both worlds\n",
    "coord_a = world_a.execute(\"SELECT * FROM vw_coordination_summary ORDER BY suspicion_score DESC\").df()\n",
    "coord_b = world_b.execute(\"SELECT * FROM vw_coordination_summary ORDER BY suspicion_score DESC\").df()\n",
    "\n",
    "print(\"World A - Coordination Summary:\")\n",
    "print(coord_a[['topic', 'avg_burst_score', 'avg_synchrony_index', 'high_burst_count', 'suspicion_score']].head(5))\n",
    "\n",
    "print(\"\\nWorld B - Coordination Summary:\")\n",
    "print(coord_b[['topic', 'avg_burst_score', 'avg_synchrony_index', 'high_burst_count', 'suspicion_score']].head(5))"
   ]
  },
  {
   "cell_type": "code",
   "execution_count": 41,
   "metadata": {},
   "outputs": [
    {
     "data": {
      "application/vnd.plotly.v1+json": {
       "config": {
        "plotlyServerURL": "https://plot.ly"
       },
       "data": [
        {
         "marker": {
          "color": "blue"
         },
         "name": "World A",
         "type": "box",
         "xaxis": "x",
         "y": {
          "bdata": "16NwPQrXwz8v3SQGgZXDPy/dJAaBlcM/MzMzMzMzwz+HFtnO91PDPy/dJAaBlcM/MzMzMzMzwz+HFtnO91PDPzMzMzMzM8M/MzMzMzMzwz8zMzMzMzPDP99PjZduEsM/MzMzMzMzwz+LbOf7qfHCP4cW2c73U8M/",
          "dtype": "f8"
         },
         "yaxis": "y"
        },
        {
         "marker": {
          "color": "lightcoral"
         },
         "name": "World B",
         "type": "box",
         "xaxis": "x",
         "y": {
          "bdata": "SOF6FK5H7T9I4XoUrkftP8HKoUW28+E/7FG4HoXr4T9WDi2yne/XP6rx0k1iENg/qvHSTWIQ0D+HFtnO91PDPzMzMzMzM8M/L90kBoGVwz/b+X5qvHTDPzMzMzMzM8M/N4lBYOXQwj8zMzMzMzPDPzMzMzMzM8M/",
          "dtype": "f8"
         },
         "yaxis": "y"
        },
        {
         "marker": {
          "color": "blue"
         },
         "name": "World A",
         "showlegend": false,
         "type": "box",
         "xaxis": "x2",
         "y": {
          "bdata": "HVpkO99PzT9xPQrXo3DNP3npJjEIrMw/yXa+nxovzT91kxgEVg7NP83MzMzMzMw/dZMYBFYOzT/NzMzMzMzMP3WTGARWDs0/yXa+nxovzT956SYxCKzMPyGwcmiR7cw/eekmMQiszD956SYxCKzMP4GVQ4ts58s/",
          "dtype": "f8"
         },
         "yaxis": "y2"
        },
        {
         "marker": {
          "color": "lightcoral"
         },
         "name": "World B",
         "showlegend": false,
         "type": "box",
         "xaxis": "x2",
         "y": {
          "bdata": "VOOlm8Qg7D8rhxbZzvfrP7pJDAIrh+I/EFg5tMh24j/NzMzMzMzcP3e+nxov3dw/vHSTGARW1j8ZBFYOLbLNP3WTGARWDs0/zczMzMzMzD91kxgEVg7NP83MzMzMzMw/yXa+nxovzT/NzMzMzMzMP3npJjEIrMw/",
          "dtype": "f8"
         },
         "yaxis": "y2"
        },
        {
         "marker": {
          "color": "blue"
         },
         "name": "World A",
         "showlegend": false,
         "type": "box",
         "xaxis": "x3",
         "y": {
          "bdata": "AAAAAAAAAAAAAAAAAAAA",
          "dtype": "i1"
         },
         "yaxis": "y3"
        },
        {
         "marker": {
          "color": "lightcoral"
         },
         "name": "World B",
         "showlegend": false,
         "type": "box",
         "xaxis": "x3",
         "y": {
          "bdata": "hAOEA5MAiAAAAAAAAAAAAAAAAAAAAAAAAAAAAAAA",
          "dtype": "i2"
         },
         "yaxis": "y3"
        },
        {
         "marker": {
          "color": "blue"
         },
         "name": "World A",
         "showlegend": false,
         "type": "box",
         "xaxis": "x4",
         "y": {
          "bdata": "Vg4tsp3vxz8CK4cW2c7HP65H4XoUrsc/rkfhehSuxz9aZDvfT43HP1pkO99Pjcc/WmQ730+Nxz9aZDvfT43HP1pkO99Pjcc/WmQ730+Nxz8GgZVDi2zHPwaBlUOLbMc/sp3vp8ZLxz9eukkMAivHPwrXo3A9Csc/",
          "dtype": "f8"
         },
         "yaxis": "y4"
        },
        {
         "marker": {
          "color": "lightcoral"
         },
         "name": "World B",
         "showlegend": false,
         "type": "box",
         "xaxis": "x4",
         "y": {
          "bdata": "SgwCK4cW7T+gGi/dJAbtP8UgsHJokeE/Rrbz/dR44T+cxCCwcmjZP5zEILByaNk/ke18PzVe0j8CK4cW2c7HP65H4XoUrsc/rkfhehSuxz+uR+F6FK7HPwaBlUOLbMc/BoGVQ4tsxz8GgZVDi2zHPwaBlUOLbMc/",
          "dtype": "f8"
         },
         "yaxis": "y4"
        }
       ],
       "layout": {
        "annotations": [
         {
          "font": {
           "size": 16
          },
          "showarrow": false,
          "text": "Burst Scores (Sudden spikes)",
          "x": 0.225,
          "xanchor": "center",
          "xref": "paper",
          "y": 1,
          "yanchor": "bottom",
          "yref": "paper"
         },
         {
          "font": {
           "size": 16
          },
          "showarrow": false,
          "text": "Synchrony Index (time-aligned posting)",
          "x": 0.775,
          "xanchor": "center",
          "xref": "paper",
          "y": 1,
          "yanchor": "bottom",
          "yref": "paper"
         },
         {
          "font": {
           "size": 16
          },
          "showarrow": false,
          "text": "High Burst Events (many suspicious bursts)",
          "x": 0.225,
          "xanchor": "center",
          "xref": "paper",
          "y": 0.425,
          "yanchor": "bottom",
          "yref": "paper"
         },
         {
          "font": {
           "size": 16
          },
          "showarrow": false,
          "text": "Overall Suspicion (calculated)",
          "x": 0.775,
          "xanchor": "center",
          "xref": "paper",
          "y": 0.425,
          "yanchor": "bottom",
          "yref": "paper"
         }
        ],
        "height": 600,
        "template": {
         "data": {
          "bar": [
           {
            "error_x": {
             "color": "#2a3f5f"
            },
            "error_y": {
             "color": "#2a3f5f"
            },
            "marker": {
             "line": {
              "color": "#E5ECF6",
              "width": 0.5
             },
             "pattern": {
              "fillmode": "overlay",
              "size": 10,
              "solidity": 0.2
             }
            },
            "type": "bar"
           }
          ],
          "barpolar": [
           {
            "marker": {
             "line": {
              "color": "#E5ECF6",
              "width": 0.5
             },
             "pattern": {
              "fillmode": "overlay",
              "size": 10,
              "solidity": 0.2
             }
            },
            "type": "barpolar"
           }
          ],
          "carpet": [
           {
            "aaxis": {
             "endlinecolor": "#2a3f5f",
             "gridcolor": "white",
             "linecolor": "white",
             "minorgridcolor": "white",
             "startlinecolor": "#2a3f5f"
            },
            "baxis": {
             "endlinecolor": "#2a3f5f",
             "gridcolor": "white",
             "linecolor": "white",
             "minorgridcolor": "white",
             "startlinecolor": "#2a3f5f"
            },
            "type": "carpet"
           }
          ],
          "choropleth": [
           {
            "colorbar": {
             "outlinewidth": 0,
             "ticks": ""
            },
            "type": "choropleth"
           }
          ],
          "contour": [
           {
            "colorbar": {
             "outlinewidth": 0,
             "ticks": ""
            },
            "colorscale": [
             [
              0,
              "#0d0887"
             ],
             [
              0.1111111111111111,
              "#46039f"
             ],
             [
              0.2222222222222222,
              "#7201a8"
             ],
             [
              0.3333333333333333,
              "#9c179e"
             ],
             [
              0.4444444444444444,
              "#bd3786"
             ],
             [
              0.5555555555555556,
              "#d8576b"
             ],
             [
              0.6666666666666666,
              "#ed7953"
             ],
             [
              0.7777777777777778,
              "#fb9f3a"
             ],
             [
              0.8888888888888888,
              "#fdca26"
             ],
             [
              1,
              "#f0f921"
             ]
            ],
            "type": "contour"
           }
          ],
          "contourcarpet": [
           {
            "colorbar": {
             "outlinewidth": 0,
             "ticks": ""
            },
            "type": "contourcarpet"
           }
          ],
          "heatmap": [
           {
            "colorbar": {
             "outlinewidth": 0,
             "ticks": ""
            },
            "colorscale": [
             [
              0,
              "#0d0887"
             ],
             [
              0.1111111111111111,
              "#46039f"
             ],
             [
              0.2222222222222222,
              "#7201a8"
             ],
             [
              0.3333333333333333,
              "#9c179e"
             ],
             [
              0.4444444444444444,
              "#bd3786"
             ],
             [
              0.5555555555555556,
              "#d8576b"
             ],
             [
              0.6666666666666666,
              "#ed7953"
             ],
             [
              0.7777777777777778,
              "#fb9f3a"
             ],
             [
              0.8888888888888888,
              "#fdca26"
             ],
             [
              1,
              "#f0f921"
             ]
            ],
            "type": "heatmap"
           }
          ],
          "histogram": [
           {
            "marker": {
             "pattern": {
              "fillmode": "overlay",
              "size": 10,
              "solidity": 0.2
             }
            },
            "type": "histogram"
           }
          ],
          "histogram2d": [
           {
            "colorbar": {
             "outlinewidth": 0,
             "ticks": ""
            },
            "colorscale": [
             [
              0,
              "#0d0887"
             ],
             [
              0.1111111111111111,
              "#46039f"
             ],
             [
              0.2222222222222222,
              "#7201a8"
             ],
             [
              0.3333333333333333,
              "#9c179e"
             ],
             [
              0.4444444444444444,
              "#bd3786"
             ],
             [
              0.5555555555555556,
              "#d8576b"
             ],
             [
              0.6666666666666666,
              "#ed7953"
             ],
             [
              0.7777777777777778,
              "#fb9f3a"
             ],
             [
              0.8888888888888888,
              "#fdca26"
             ],
             [
              1,
              "#f0f921"
             ]
            ],
            "type": "histogram2d"
           }
          ],
          "histogram2dcontour": [
           {
            "colorbar": {
             "outlinewidth": 0,
             "ticks": ""
            },
            "colorscale": [
             [
              0,
              "#0d0887"
             ],
             [
              0.1111111111111111,
              "#46039f"
             ],
             [
              0.2222222222222222,
              "#7201a8"
             ],
             [
              0.3333333333333333,
              "#9c179e"
             ],
             [
              0.4444444444444444,
              "#bd3786"
             ],
             [
              0.5555555555555556,
              "#d8576b"
             ],
             [
              0.6666666666666666,
              "#ed7953"
             ],
             [
              0.7777777777777778,
              "#fb9f3a"
             ],
             [
              0.8888888888888888,
              "#fdca26"
             ],
             [
              1,
              "#f0f921"
             ]
            ],
            "type": "histogram2dcontour"
           }
          ],
          "mesh3d": [
           {
            "colorbar": {
             "outlinewidth": 0,
             "ticks": ""
            },
            "type": "mesh3d"
           }
          ],
          "parcoords": [
           {
            "line": {
             "colorbar": {
              "outlinewidth": 0,
              "ticks": ""
             }
            },
            "type": "parcoords"
           }
          ],
          "pie": [
           {
            "automargin": true,
            "type": "pie"
           }
          ],
          "scatter": [
           {
            "fillpattern": {
             "fillmode": "overlay",
             "size": 10,
             "solidity": 0.2
            },
            "type": "scatter"
           }
          ],
          "scatter3d": [
           {
            "line": {
             "colorbar": {
              "outlinewidth": 0,
              "ticks": ""
             }
            },
            "marker": {
             "colorbar": {
              "outlinewidth": 0,
              "ticks": ""
             }
            },
            "type": "scatter3d"
           }
          ],
          "scattercarpet": [
           {
            "marker": {
             "colorbar": {
              "outlinewidth": 0,
              "ticks": ""
             }
            },
            "type": "scattercarpet"
           }
          ],
          "scattergeo": [
           {
            "marker": {
             "colorbar": {
              "outlinewidth": 0,
              "ticks": ""
             }
            },
            "type": "scattergeo"
           }
          ],
          "scattergl": [
           {
            "marker": {
             "colorbar": {
              "outlinewidth": 0,
              "ticks": ""
             }
            },
            "type": "scattergl"
           }
          ],
          "scattermap": [
           {
            "marker": {
             "colorbar": {
              "outlinewidth": 0,
              "ticks": ""
             }
            },
            "type": "scattermap"
           }
          ],
          "scattermapbox": [
           {
            "marker": {
             "colorbar": {
              "outlinewidth": 0,
              "ticks": ""
             }
            },
            "type": "scattermapbox"
           }
          ],
          "scatterpolar": [
           {
            "marker": {
             "colorbar": {
              "outlinewidth": 0,
              "ticks": ""
             }
            },
            "type": "scatterpolar"
           }
          ],
          "scatterpolargl": [
           {
            "marker": {
             "colorbar": {
              "outlinewidth": 0,
              "ticks": ""
             }
            },
            "type": "scatterpolargl"
           }
          ],
          "scatterternary": [
           {
            "marker": {
             "colorbar": {
              "outlinewidth": 0,
              "ticks": ""
             }
            },
            "type": "scatterternary"
           }
          ],
          "surface": [
           {
            "colorbar": {
             "outlinewidth": 0,
             "ticks": ""
            },
            "colorscale": [
             [
              0,
              "#0d0887"
             ],
             [
              0.1111111111111111,
              "#46039f"
             ],
             [
              0.2222222222222222,
              "#7201a8"
             ],
             [
              0.3333333333333333,
              "#9c179e"
             ],
             [
              0.4444444444444444,
              "#bd3786"
             ],
             [
              0.5555555555555556,
              "#d8576b"
             ],
             [
              0.6666666666666666,
              "#ed7953"
             ],
             [
              0.7777777777777778,
              "#fb9f3a"
             ],
             [
              0.8888888888888888,
              "#fdca26"
             ],
             [
              1,
              "#f0f921"
             ]
            ],
            "type": "surface"
           }
          ],
          "table": [
           {
            "cells": {
             "fill": {
              "color": "#EBF0F8"
             },
             "line": {
              "color": "white"
             }
            },
            "header": {
             "fill": {
              "color": "#C8D4E3"
             },
             "line": {
              "color": "white"
             }
            },
            "type": "table"
           }
          ]
         },
         "layout": {
          "annotationdefaults": {
           "arrowcolor": "#2a3f5f",
           "arrowhead": 0,
           "arrowwidth": 1
          },
          "autotypenumbers": "strict",
          "coloraxis": {
           "colorbar": {
            "outlinewidth": 0,
            "ticks": ""
           }
          },
          "colorscale": {
           "diverging": [
            [
             0,
             "#8e0152"
            ],
            [
             0.1,
             "#c51b7d"
            ],
            [
             0.2,
             "#de77ae"
            ],
            [
             0.3,
             "#f1b6da"
            ],
            [
             0.4,
             "#fde0ef"
            ],
            [
             0.5,
             "#f7f7f7"
            ],
            [
             0.6,
             "#e6f5d0"
            ],
            [
             0.7,
             "#b8e186"
            ],
            [
             0.8,
             "#7fbc41"
            ],
            [
             0.9,
             "#4d9221"
            ],
            [
             1,
             "#276419"
            ]
           ],
           "sequential": [
            [
             0,
             "#0d0887"
            ],
            [
             0.1111111111111111,
             "#46039f"
            ],
            [
             0.2222222222222222,
             "#7201a8"
            ],
            [
             0.3333333333333333,
             "#9c179e"
            ],
            [
             0.4444444444444444,
             "#bd3786"
            ],
            [
             0.5555555555555556,
             "#d8576b"
            ],
            [
             0.6666666666666666,
             "#ed7953"
            ],
            [
             0.7777777777777778,
             "#fb9f3a"
            ],
            [
             0.8888888888888888,
             "#fdca26"
            ],
            [
             1,
             "#f0f921"
            ]
           ],
           "sequentialminus": [
            [
             0,
             "#0d0887"
            ],
            [
             0.1111111111111111,
             "#46039f"
            ],
            [
             0.2222222222222222,
             "#7201a8"
            ],
            [
             0.3333333333333333,
             "#9c179e"
            ],
            [
             0.4444444444444444,
             "#bd3786"
            ],
            [
             0.5555555555555556,
             "#d8576b"
            ],
            [
             0.6666666666666666,
             "#ed7953"
            ],
            [
             0.7777777777777778,
             "#fb9f3a"
            ],
            [
             0.8888888888888888,
             "#fdca26"
            ],
            [
             1,
             "#f0f921"
            ]
           ]
          },
          "colorway": [
           "#636efa",
           "#EF553B",
           "#00cc96",
           "#ab63fa",
           "#FFA15A",
           "#19d3f3",
           "#FF6692",
           "#B6E880",
           "#FF97FF",
           "#FECB52"
          ],
          "font": {
           "color": "#2a3f5f"
          },
          "geo": {
           "bgcolor": "white",
           "lakecolor": "white",
           "landcolor": "#E5ECF6",
           "showlakes": true,
           "showland": true,
           "subunitcolor": "white"
          },
          "hoverlabel": {
           "align": "left"
          },
          "hovermode": "closest",
          "mapbox": {
           "style": "light"
          },
          "paper_bgcolor": "white",
          "plot_bgcolor": "#E5ECF6",
          "polar": {
           "angularaxis": {
            "gridcolor": "white",
            "linecolor": "white",
            "ticks": ""
           },
           "bgcolor": "#E5ECF6",
           "radialaxis": {
            "gridcolor": "white",
            "linecolor": "white",
            "ticks": ""
           }
          },
          "scene": {
           "xaxis": {
            "backgroundcolor": "#E5ECF6",
            "gridcolor": "white",
            "gridwidth": 2,
            "linecolor": "white",
            "showbackground": true,
            "ticks": "",
            "zerolinecolor": "white"
           },
           "yaxis": {
            "backgroundcolor": "#E5ECF6",
            "gridcolor": "white",
            "gridwidth": 2,
            "linecolor": "white",
            "showbackground": true,
            "ticks": "",
            "zerolinecolor": "white"
           },
           "zaxis": {
            "backgroundcolor": "#E5ECF6",
            "gridcolor": "white",
            "gridwidth": 2,
            "linecolor": "white",
            "showbackground": true,
            "ticks": "",
            "zerolinecolor": "white"
           }
          },
          "shapedefaults": {
           "line": {
            "color": "#2a3f5f"
           }
          },
          "ternary": {
           "aaxis": {
            "gridcolor": "white",
            "linecolor": "white",
            "ticks": ""
           },
           "baxis": {
            "gridcolor": "white",
            "linecolor": "white",
            "ticks": ""
           },
           "bgcolor": "#E5ECF6",
           "caxis": {
            "gridcolor": "white",
            "linecolor": "white",
            "ticks": ""
           }
          },
          "title": {
           "x": 0.05
          },
          "xaxis": {
           "automargin": true,
           "gridcolor": "white",
           "linecolor": "white",
           "ticks": "",
           "title": {
            "standoff": 15
           },
           "zerolinecolor": "white",
           "zerolinewidth": 2
          },
          "yaxis": {
           "automargin": true,
           "gridcolor": "white",
           "linecolor": "white",
           "ticks": "",
           "title": {
            "standoff": 15
           },
           "zerolinecolor": "white",
           "zerolinewidth": 2
          }
         }
        },
        "title": {
         "text": "Coordination Comparison (Across All Topics)"
        },
        "xaxis": {
         "anchor": "y",
         "domain": [
          0,
          0.45
         ]
        },
        "xaxis2": {
         "anchor": "y2",
         "domain": [
          0.55,
          1
         ]
        },
        "xaxis3": {
         "anchor": "y3",
         "domain": [
          0,
          0.45
         ]
        },
        "xaxis4": {
         "anchor": "y4",
         "domain": [
          0.55,
          1
         ]
        },
        "yaxis": {
         "anchor": "x",
         "domain": [
          0.575,
          1
         ],
         "range": [
          0,
          1.0065000000000002
         ]
        },
        "yaxis2": {
         "anchor": "x2",
         "domain": [
          0.575,
          1
         ],
         "range": [
          0,
          0.9669000000000001
         ]
        },
        "yaxis3": {
         "anchor": "x3",
         "domain": [
          0,
          0.425
         ],
         "range": [
          0,
          990.0000000000001
         ]
        },
        "yaxis4": {
         "anchor": "x4",
         "domain": [
          0,
          0.425
         ],
         "range": [
          0,
          0.9999000000000001
         ]
        }
       }
      }
     },
     "metadata": {},
     "output_type": "display_data"
    },
    {
     "name": "stdout",
     "output_type": "stream",
     "text": [
      "\n",
      "Summary Statistics:\n",
      "World A avg burst score: 0.151\n",
      "World B avg burst score: 0.344\n",
      "\n",
      "World A avg high burst events: 0.0\n",
      "World B avg high burst events: 138.9\n",
      "\n",
      "World A avg suspicion score: 0.184\n",
      "World B avg suspicion score: 0.364\n"
     ]
    }
   ],
   "source": [
    "# Visual comparison of coordination signals\n",
    "# Create box plots for each metric to show\n",
    "# the distribution (min, max, median, quartiles) across all topics\n",
    "fig = make_subplots(\n",
    "    rows=2, cols=2,\n",
    "    subplot_titles=(\n",
    "        'Burst Scores (Sudden spikes)',\n",
    "        'Synchrony Index (time-aligned posting)',\n",
    "        'High Burst Events (many suspicious bursts)',\n",
    "        'Overall Suspicion (calculated)'),\n",
    "    vertical_spacing=0.15\n",
    ")\n",
    "\n",
    "# Use same y-axis scale for fair comparison\n",
    "y_max_burst = max(coord_a['avg_burst_score'].max(), coord_b['avg_burst_score'].max()) * 1.1\n",
    "y_max_sync = max(coord_a['avg_synchrony_index'].max(), coord_b['avg_synchrony_index'].max()) * 1.1\n",
    "y_max_events = max(coord_a['high_burst_count'].max(), coord_b['high_burst_count'].max()) * 1.1\n",
    "y_max_suspicion = max(coord_a['suspicion_score'].max(), coord_b['suspicion_score'].max()) * 1.1\n",
    "\n",
    "# Burst scores\n",
    "fig.add_trace(go.Box(y=coord_a['avg_burst_score'], name='World A', marker_color='blue'), row=1, col=1)\n",
    "fig.add_trace(go.Box(y=coord_b['avg_burst_score'], name='World B', marker_color='lightcoral'), row=1, col=1)\n",
    "fig.update_yaxes(range=[0, y_max_burst], row=1, col=1)\n",
    "\n",
    "# Synchrony scores  \n",
    "fig.add_trace(go.Box(y=coord_a['avg_synchrony_index'], name='World A', marker_color='blue', showlegend=False), row=1, col=2)\n",
    "fig.add_trace(go.Box(y=coord_b['avg_synchrony_index'], name='World B', marker_color='lightcoral', showlegend=False), row=1, col=2)\n",
    "fig.update_yaxes(range=[0, y_max_sync], row=1, col=2)\n",
    "\n",
    "# High burst events\n",
    "fig.add_trace(go.Box(y=coord_a['high_burst_count'], name='World A', marker_color='blue', showlegend=False), row=2, col=1)\n",
    "fig.add_trace(go.Box(y=coord_b['high_burst_count'], name='World B', marker_color='lightcoral', showlegend=False), row=2, col=1)\n",
    "fig.update_yaxes(range=[0, y_max_events], row=2, col=1)\n",
    "\n",
    "# Suspicion scores\n",
    "fig.add_trace(go.Box(y=coord_a['suspicion_score'], name='World A', marker_color='blue', showlegend=False), row=2, col=2)\n",
    "fig.add_trace(go.Box(y=coord_b['suspicion_score'], name='World B', marker_color='lightcoral', showlegend=False), row=2, col=2)\n",
    "fig.update_yaxes(range=[0, y_max_suspicion], row=2, col=2)\n",
    "\n",
    "fig.update_layout(height=600, title=\"Coordination Comparison (Across All Topics)\")\n",
    "fig.show()\n",
    "\n",
    "# Summary statistics\n",
    "print(\"\\nSummary Statistics:\")\n",
    "print(f\"World A avg burst score: {coord_a['avg_burst_score'].mean():.3f}\")\n",
    "print(f\"World B avg burst score: {coord_b['avg_burst_score'].mean():.3f}\")\n",
    "print(\"\")\n",
    "print(f\"World A avg high burst events: {coord_a['high_burst_count'].mean():.1f}\")\n",
    "print(f\"World B avg high burst events: {coord_b['high_burst_count'].mean():.1f}\")\n",
    "print(\"\")\n",
    "print(f\"World A avg suspicion score: {coord_a['suspicion_score'].mean():.3f}\")\n",
    "print(f\"World B avg suspicion score: {coord_b['suspicion_score'].mean():.3f}\")"
   ]
  },
  {
   "cell_type": "markdown",
   "metadata": {},
   "source": [
    "## View 2. How Does Coordination Change Over Time (for a single topic)\n",
    "\n",
    "Let's examine how coordination patterns change over time for a specific civic topic.\n",
    "\n",
    "### 2.1 First, what topics are available? "
   ]
  },
  {
   "cell_type": "code",
   "execution_count": 42,
   "metadata": {},
   "outputs": [
    {
     "name": "stdout",
     "output_type": "stream",
     "text": [
      "\n",
      "World A Topics to Explore:\n",
      "b8e4c1f5, i9f8e1c7, j2a9f5d3, k6e4b7f1, d4e7f2a1, e8b3c6f9, a7f3d9e2, f1a5d8e2, h3d6a4e8, l8c1d9a6, o7b9e4c1, c9f6a3d8, n1d5a8f2, g7c2f9b4, m4f7e3b8\n"
     ]
    }
   ],
   "source": [
    "# Show condensed list of topics to explore from World A\n",
    "print(\"\\nWorld A Topics to Explore:\")\n",
    "topics_a = world_a.execute(\"SELECT DISTINCT topic FROM transparency_series\").df()\n",
    "# Display all topics in a single line separated by commas\n",
    "print(\", \".join(topics_a['topic']))\n"
   ]
  },
  {
   "cell_type": "markdown",
   "metadata": {},
   "source": [
    "### 2.2 Choose a Topic and View the Timeline\n",
    "\n",
    "TODO: **Replace topics in the code below** to explore each topic (as a hidden-content hash)."
   ]
  },
  {
   "cell_type": "code",
   "execution_count": 43,
   "metadata": {},
   "outputs": [
    {
     "data": {
      "application/vnd.plotly.v1+json": {
       "config": {
        "plotlyServerURL": "https://plot.ly"
       },
       "data": [
        {
         "line": {
          "color": "blue"
         },
         "mode": "lines+markers",
         "name": "Burst Score",
         "type": "scatter",
         "x": [
          "2026-02-01T09:00:00.000000",
          "2026-02-01T10:00:00.000000",
          "2026-02-01T11:00:00.000000",
          "2026-02-01T18:00:00.000000",
          "2026-02-01T19:00:00.000000",
          "2026-02-01T20:00:00.000000",
          "2026-02-02T12:00:00.000000",
          "2026-02-02T13:00:00.000000",
          "2026-02-02T14:00:00.000000",
          "2026-02-03T08:00:00.000000",
          "2026-02-03T09:00:00.000000",
          "2026-02-03T10:00:00.000000",
          "2026-02-03T19:00:00.000000",
          "2026-02-03T20:00:00.000000",
          "2026-02-03T21:00:00.000000"
         ],
         "xaxis": "x",
         "y": {
          "bdata": "i2zn+6nxwj/jpZvEILDCPyuHFtnO98M/j8L1KFyPwj8zMzMzMzPDPzeJQWDl0MI/L90kBoGVwz8v3SQGgZXDP4/C9Shcj8I/j8L1KFyPwj/LoUW28/3EPzMzMzMzM8M/30+Nl24Swz83iUFg5dDCPzeJQWDl0MI/",
          "dtype": "f8"
         },
         "yaxis": "y"
        },
        {
         "line": {
          "color": "grey"
         },
         "mode": "lines",
         "name": "Volume",
         "opacity": 0.7,
         "type": "scatter",
         "x": [
          "2026-02-01T09:00:00.000000",
          "2026-02-01T10:00:00.000000",
          "2026-02-01T11:00:00.000000",
          "2026-02-01T18:00:00.000000",
          "2026-02-01T19:00:00.000000",
          "2026-02-01T20:00:00.000000",
          "2026-02-02T12:00:00.000000",
          "2026-02-02T13:00:00.000000",
          "2026-02-02T14:00:00.000000",
          "2026-02-03T08:00:00.000000",
          "2026-02-03T09:00:00.000000",
          "2026-02-03T10:00:00.000000",
          "2026-02-03T19:00:00.000000",
          "2026-02-03T20:00:00.000000",
          "2026-02-03T21:00:00.000000"
         ],
         "xaxis": "x",
         "y": {
          "bdata": "AAAAAAAAX0AAAAAAAEBeQAAAAAAAwF5AAAAAAABAX0AAAAAAAIBfQAAAAAAAQFxAAAAAAABAX0AAAAAAAABfQAAAAAAAQF9AAAAAAABAX0AAAAAAACBgQAAAAAAAgF5AAAAAAACAX0AAAAAAAEBdQAAAAAAAgF5A",
          "dtype": "f8"
         },
         "yaxis": "y2"
        },
        {
         "line": {
          "color": "red"
         },
         "mode": "lines+markers",
         "name": "Burst Score",
         "type": "scatter",
         "x": [
          "2026-02-01T09:00:00.000000",
          "2026-02-01T10:00:00.000000",
          "2026-02-01T11:00:00.000000",
          "2026-02-01T18:00:00.000000",
          "2026-02-01T19:00:00.000000",
          "2026-02-01T20:00:00.000000",
          "2026-02-02T12:00:00.000000",
          "2026-02-02T13:00:00.000000",
          "2026-02-02T14:00:00.000000",
          "2026-02-03T08:00:00.000000",
          "2026-02-03T09:00:00.000000",
          "2026-02-03T10:00:00.000000",
          "2026-02-03T19:00:00.000000",
          "2026-02-03T20:00:00.000000",
          "2026-02-03T21:00:00.000000"
         ],
         "xaxis": "x2",
         "y": {
          "bdata": "7nw/NV664T9qvHSTGATiPxfZzvdT4+E/mG4Sg8DK4T/D9Shcj8LhPxSuR+F6FOI/lkOLbOf74T+gGi/dJAbhP5ZDi2zn++E/xSCwcmiR4T9t5/up8dLhP7pJDAIrh+I/ObTIdr6f4j8dWmQ730/hP42XbhKDwOI/",
          "dtype": "f8"
         },
         "yaxis": "y3"
        },
        {
         "line": {
          "color": "grey"
         },
         "mode": "lines",
         "name": "Volume",
         "opacity": 0.7,
         "type": "scatter",
         "x": [
          "2026-02-01T09:00:00.000000",
          "2026-02-01T10:00:00.000000",
          "2026-02-01T11:00:00.000000",
          "2026-02-01T18:00:00.000000",
          "2026-02-01T19:00:00.000000",
          "2026-02-01T20:00:00.000000",
          "2026-02-02T12:00:00.000000",
          "2026-02-02T13:00:00.000000",
          "2026-02-02T14:00:00.000000",
          "2026-02-03T08:00:00.000000",
          "2026-02-03T09:00:00.000000",
          "2026-02-03T10:00:00.000000",
          "2026-02-03T19:00:00.000000",
          "2026-02-03T20:00:00.000000",
          "2026-02-03T21:00:00.000000"
         ],
         "xaxis": "x2",
         "y": {
          "bdata": "AAAAAABAa0AAAAAAAEBrQAAAAAAAIGtAAAAAAADgaUAAAAAAAABqQAAAAAAAgGtAAAAAAABAaUAAAAAAACBpQAAAAAAAoGpAAAAAAACgaUAAAAAAAOBqQAAAAAAAQG1AAAAAAACga0AAAAAAAEBpQAAAAAAAgG1A",
          "dtype": "f8"
         },
         "yaxis": "y4"
        }
       ],
       "layout": {
        "annotations": [
         {
          "font": {
           "size": 16
          },
          "showarrow": false,
          "text": "World A: c9f6a3d8",
          "x": 0.47,
          "xanchor": "center",
          "xref": "paper",
          "y": 1,
          "yanchor": "bottom",
          "yref": "paper"
         },
         {
          "font": {
           "size": 16
          },
          "showarrow": false,
          "text": "World B: c9f6a3d8",
          "x": 0.47,
          "xanchor": "center",
          "xref": "paper",
          "y": 0.375,
          "yanchor": "bottom",
          "yref": "paper"
         }
        ],
        "height": 600,
        "template": {
         "data": {
          "bar": [
           {
            "error_x": {
             "color": "#2a3f5f"
            },
            "error_y": {
             "color": "#2a3f5f"
            },
            "marker": {
             "line": {
              "color": "#E5ECF6",
              "width": 0.5
             },
             "pattern": {
              "fillmode": "overlay",
              "size": 10,
              "solidity": 0.2
             }
            },
            "type": "bar"
           }
          ],
          "barpolar": [
           {
            "marker": {
             "line": {
              "color": "#E5ECF6",
              "width": 0.5
             },
             "pattern": {
              "fillmode": "overlay",
              "size": 10,
              "solidity": 0.2
             }
            },
            "type": "barpolar"
           }
          ],
          "carpet": [
           {
            "aaxis": {
             "endlinecolor": "#2a3f5f",
             "gridcolor": "white",
             "linecolor": "white",
             "minorgridcolor": "white",
             "startlinecolor": "#2a3f5f"
            },
            "baxis": {
             "endlinecolor": "#2a3f5f",
             "gridcolor": "white",
             "linecolor": "white",
             "minorgridcolor": "white",
             "startlinecolor": "#2a3f5f"
            },
            "type": "carpet"
           }
          ],
          "choropleth": [
           {
            "colorbar": {
             "outlinewidth": 0,
             "ticks": ""
            },
            "type": "choropleth"
           }
          ],
          "contour": [
           {
            "colorbar": {
             "outlinewidth": 0,
             "ticks": ""
            },
            "colorscale": [
             [
              0,
              "#0d0887"
             ],
             [
              0.1111111111111111,
              "#46039f"
             ],
             [
              0.2222222222222222,
              "#7201a8"
             ],
             [
              0.3333333333333333,
              "#9c179e"
             ],
             [
              0.4444444444444444,
              "#bd3786"
             ],
             [
              0.5555555555555556,
              "#d8576b"
             ],
             [
              0.6666666666666666,
              "#ed7953"
             ],
             [
              0.7777777777777778,
              "#fb9f3a"
             ],
             [
              0.8888888888888888,
              "#fdca26"
             ],
             [
              1,
              "#f0f921"
             ]
            ],
            "type": "contour"
           }
          ],
          "contourcarpet": [
           {
            "colorbar": {
             "outlinewidth": 0,
             "ticks": ""
            },
            "type": "contourcarpet"
           }
          ],
          "heatmap": [
           {
            "colorbar": {
             "outlinewidth": 0,
             "ticks": ""
            },
            "colorscale": [
             [
              0,
              "#0d0887"
             ],
             [
              0.1111111111111111,
              "#46039f"
             ],
             [
              0.2222222222222222,
              "#7201a8"
             ],
             [
              0.3333333333333333,
              "#9c179e"
             ],
             [
              0.4444444444444444,
              "#bd3786"
             ],
             [
              0.5555555555555556,
              "#d8576b"
             ],
             [
              0.6666666666666666,
              "#ed7953"
             ],
             [
              0.7777777777777778,
              "#fb9f3a"
             ],
             [
              0.8888888888888888,
              "#fdca26"
             ],
             [
              1,
              "#f0f921"
             ]
            ],
            "type": "heatmap"
           }
          ],
          "histogram": [
           {
            "marker": {
             "pattern": {
              "fillmode": "overlay",
              "size": 10,
              "solidity": 0.2
             }
            },
            "type": "histogram"
           }
          ],
          "histogram2d": [
           {
            "colorbar": {
             "outlinewidth": 0,
             "ticks": ""
            },
            "colorscale": [
             [
              0,
              "#0d0887"
             ],
             [
              0.1111111111111111,
              "#46039f"
             ],
             [
              0.2222222222222222,
              "#7201a8"
             ],
             [
              0.3333333333333333,
              "#9c179e"
             ],
             [
              0.4444444444444444,
              "#bd3786"
             ],
             [
              0.5555555555555556,
              "#d8576b"
             ],
             [
              0.6666666666666666,
              "#ed7953"
             ],
             [
              0.7777777777777778,
              "#fb9f3a"
             ],
             [
              0.8888888888888888,
              "#fdca26"
             ],
             [
              1,
              "#f0f921"
             ]
            ],
            "type": "histogram2d"
           }
          ],
          "histogram2dcontour": [
           {
            "colorbar": {
             "outlinewidth": 0,
             "ticks": ""
            },
            "colorscale": [
             [
              0,
              "#0d0887"
             ],
             [
              0.1111111111111111,
              "#46039f"
             ],
             [
              0.2222222222222222,
              "#7201a8"
             ],
             [
              0.3333333333333333,
              "#9c179e"
             ],
             [
              0.4444444444444444,
              "#bd3786"
             ],
             [
              0.5555555555555556,
              "#d8576b"
             ],
             [
              0.6666666666666666,
              "#ed7953"
             ],
             [
              0.7777777777777778,
              "#fb9f3a"
             ],
             [
              0.8888888888888888,
              "#fdca26"
             ],
             [
              1,
              "#f0f921"
             ]
            ],
            "type": "histogram2dcontour"
           }
          ],
          "mesh3d": [
           {
            "colorbar": {
             "outlinewidth": 0,
             "ticks": ""
            },
            "type": "mesh3d"
           }
          ],
          "parcoords": [
           {
            "line": {
             "colorbar": {
              "outlinewidth": 0,
              "ticks": ""
             }
            },
            "type": "parcoords"
           }
          ],
          "pie": [
           {
            "automargin": true,
            "type": "pie"
           }
          ],
          "scatter": [
           {
            "fillpattern": {
             "fillmode": "overlay",
             "size": 10,
             "solidity": 0.2
            },
            "type": "scatter"
           }
          ],
          "scatter3d": [
           {
            "line": {
             "colorbar": {
              "outlinewidth": 0,
              "ticks": ""
             }
            },
            "marker": {
             "colorbar": {
              "outlinewidth": 0,
              "ticks": ""
             }
            },
            "type": "scatter3d"
           }
          ],
          "scattercarpet": [
           {
            "marker": {
             "colorbar": {
              "outlinewidth": 0,
              "ticks": ""
             }
            },
            "type": "scattercarpet"
           }
          ],
          "scattergeo": [
           {
            "marker": {
             "colorbar": {
              "outlinewidth": 0,
              "ticks": ""
             }
            },
            "type": "scattergeo"
           }
          ],
          "scattergl": [
           {
            "marker": {
             "colorbar": {
              "outlinewidth": 0,
              "ticks": ""
             }
            },
            "type": "scattergl"
           }
          ],
          "scattermap": [
           {
            "marker": {
             "colorbar": {
              "outlinewidth": 0,
              "ticks": ""
             }
            },
            "type": "scattermap"
           }
          ],
          "scattermapbox": [
           {
            "marker": {
             "colorbar": {
              "outlinewidth": 0,
              "ticks": ""
             }
            },
            "type": "scattermapbox"
           }
          ],
          "scatterpolar": [
           {
            "marker": {
             "colorbar": {
              "outlinewidth": 0,
              "ticks": ""
             }
            },
            "type": "scatterpolar"
           }
          ],
          "scatterpolargl": [
           {
            "marker": {
             "colorbar": {
              "outlinewidth": 0,
              "ticks": ""
             }
            },
            "type": "scatterpolargl"
           }
          ],
          "scatterternary": [
           {
            "marker": {
             "colorbar": {
              "outlinewidth": 0,
              "ticks": ""
             }
            },
            "type": "scatterternary"
           }
          ],
          "surface": [
           {
            "colorbar": {
             "outlinewidth": 0,
             "ticks": ""
            },
            "colorscale": [
             [
              0,
              "#0d0887"
             ],
             [
              0.1111111111111111,
              "#46039f"
             ],
             [
              0.2222222222222222,
              "#7201a8"
             ],
             [
              0.3333333333333333,
              "#9c179e"
             ],
             [
              0.4444444444444444,
              "#bd3786"
             ],
             [
              0.5555555555555556,
              "#d8576b"
             ],
             [
              0.6666666666666666,
              "#ed7953"
             ],
             [
              0.7777777777777778,
              "#fb9f3a"
             ],
             [
              0.8888888888888888,
              "#fdca26"
             ],
             [
              1,
              "#f0f921"
             ]
            ],
            "type": "surface"
           }
          ],
          "table": [
           {
            "cells": {
             "fill": {
              "color": "#EBF0F8"
             },
             "line": {
              "color": "white"
             }
            },
            "header": {
             "fill": {
              "color": "#C8D4E3"
             },
             "line": {
              "color": "white"
             }
            },
            "type": "table"
           }
          ]
         },
         "layout": {
          "annotationdefaults": {
           "arrowcolor": "#2a3f5f",
           "arrowhead": 0,
           "arrowwidth": 1
          },
          "autotypenumbers": "strict",
          "coloraxis": {
           "colorbar": {
            "outlinewidth": 0,
            "ticks": ""
           }
          },
          "colorscale": {
           "diverging": [
            [
             0,
             "#8e0152"
            ],
            [
             0.1,
             "#c51b7d"
            ],
            [
             0.2,
             "#de77ae"
            ],
            [
             0.3,
             "#f1b6da"
            ],
            [
             0.4,
             "#fde0ef"
            ],
            [
             0.5,
             "#f7f7f7"
            ],
            [
             0.6,
             "#e6f5d0"
            ],
            [
             0.7,
             "#b8e186"
            ],
            [
             0.8,
             "#7fbc41"
            ],
            [
             0.9,
             "#4d9221"
            ],
            [
             1,
             "#276419"
            ]
           ],
           "sequential": [
            [
             0,
             "#0d0887"
            ],
            [
             0.1111111111111111,
             "#46039f"
            ],
            [
             0.2222222222222222,
             "#7201a8"
            ],
            [
             0.3333333333333333,
             "#9c179e"
            ],
            [
             0.4444444444444444,
             "#bd3786"
            ],
            [
             0.5555555555555556,
             "#d8576b"
            ],
            [
             0.6666666666666666,
             "#ed7953"
            ],
            [
             0.7777777777777778,
             "#fb9f3a"
            ],
            [
             0.8888888888888888,
             "#fdca26"
            ],
            [
             1,
             "#f0f921"
            ]
           ],
           "sequentialminus": [
            [
             0,
             "#0d0887"
            ],
            [
             0.1111111111111111,
             "#46039f"
            ],
            [
             0.2222222222222222,
             "#7201a8"
            ],
            [
             0.3333333333333333,
             "#9c179e"
            ],
            [
             0.4444444444444444,
             "#bd3786"
            ],
            [
             0.5555555555555556,
             "#d8576b"
            ],
            [
             0.6666666666666666,
             "#ed7953"
            ],
            [
             0.7777777777777778,
             "#fb9f3a"
            ],
            [
             0.8888888888888888,
             "#fdca26"
            ],
            [
             1,
             "#f0f921"
            ]
           ]
          },
          "colorway": [
           "#636efa",
           "#EF553B",
           "#00cc96",
           "#ab63fa",
           "#FFA15A",
           "#19d3f3",
           "#FF6692",
           "#B6E880",
           "#FF97FF",
           "#FECB52"
          ],
          "font": {
           "color": "#2a3f5f"
          },
          "geo": {
           "bgcolor": "white",
           "lakecolor": "white",
           "landcolor": "#E5ECF6",
           "showlakes": true,
           "showland": true,
           "subunitcolor": "white"
          },
          "hoverlabel": {
           "align": "left"
          },
          "hovermode": "closest",
          "mapbox": {
           "style": "light"
          },
          "paper_bgcolor": "white",
          "plot_bgcolor": "#E5ECF6",
          "polar": {
           "angularaxis": {
            "gridcolor": "white",
            "linecolor": "white",
            "ticks": ""
           },
           "bgcolor": "#E5ECF6",
           "radialaxis": {
            "gridcolor": "white",
            "linecolor": "white",
            "ticks": ""
           }
          },
          "scene": {
           "xaxis": {
            "backgroundcolor": "#E5ECF6",
            "gridcolor": "white",
            "gridwidth": 2,
            "linecolor": "white",
            "showbackground": true,
            "ticks": "",
            "zerolinecolor": "white"
           },
           "yaxis": {
            "backgroundcolor": "#E5ECF6",
            "gridcolor": "white",
            "gridwidth": 2,
            "linecolor": "white",
            "showbackground": true,
            "ticks": "",
            "zerolinecolor": "white"
           },
           "zaxis": {
            "backgroundcolor": "#E5ECF6",
            "gridcolor": "white",
            "gridwidth": 2,
            "linecolor": "white",
            "showbackground": true,
            "ticks": "",
            "zerolinecolor": "white"
           }
          },
          "shapedefaults": {
           "line": {
            "color": "#2a3f5f"
           }
          },
          "ternary": {
           "aaxis": {
            "gridcolor": "white",
            "linecolor": "white",
            "ticks": ""
           },
           "baxis": {
            "gridcolor": "white",
            "linecolor": "white",
            "ticks": ""
           },
           "bgcolor": "#E5ECF6",
           "caxis": {
            "gridcolor": "white",
            "linecolor": "white",
            "ticks": ""
           }
          },
          "title": {
           "x": 0.05
          },
          "xaxis": {
           "automargin": true,
           "gridcolor": "white",
           "linecolor": "white",
           "ticks": "",
           "title": {
            "standoff": 15
           },
           "zerolinecolor": "white",
           "zerolinewidth": 2
          },
          "yaxis": {
           "automargin": true,
           "gridcolor": "white",
           "linecolor": "white",
           "ticks": "",
           "title": {
            "standoff": 15
           },
           "zerolinecolor": "white",
           "zerolinewidth": 2
          }
         }
        },
        "title": {
         "text": "Temporal Patterns: Look for High Burst Scores and Volume Spikes"
        },
        "xaxis": {
         "anchor": "y",
         "domain": [
          0,
          0.94
         ]
        },
        "xaxis2": {
         "anchor": "y3",
         "domain": [
          0,
          0.94
         ]
        },
        "yaxis": {
         "anchor": "x",
         "domain": [
          0.625,
          1
         ],
         "range": [
          0,
          0.6446000000000001
         ],
         "title": {
          "text": "Burst Score"
         }
        },
        "yaxis2": {
         "anchor": "x",
         "overlaying": "y",
         "range": [
          0,
          259.6
         ],
         "side": "right",
         "title": {
          "text": "Volume"
         }
        },
        "yaxis3": {
         "anchor": "x2",
         "domain": [
          0,
          0.375
         ],
         "range": [
          0,
          0.6446000000000001
         ],
         "title": {
          "text": "Burst Score"
         }
        },
        "yaxis4": {
         "anchor": "x2",
         "overlaying": "y3",
         "range": [
          0,
          259.6
         ],
         "side": "right",
         "title": {
          "text": "Volume"
         }
        }
       }
      }
     },
     "metadata": {},
     "output_type": "display_data"
    },
    {
     "name": "stdout",
     "output_type": "stream",
     "text": [
      "\n",
      "Temporal Analysis for c9f6a3d8:\n",
      "World A max burst score: 0.164\n",
      "World B max burst score: 0.586\n",
      "World A max volume: 129\n",
      "World B max volume: 236\n"
     ]
    }
   ],
   "source": [
    "\n",
    "# Get hourly patterns for a sample topic with fixed scaling for fair comparison\n",
    "sample_topic = \"c9f6a3d8\" # TODO: explore other topics from the list above\n",
    "\n",
    "hourly_a = world_a.execute(f\"SELECT * FROM vw_hourly_patterns WHERE topic = '{sample_topic}' ORDER BY hour\").df()\n",
    "hourly_b = world_b.execute(f\"SELECT * FROM vw_hourly_patterns WHERE topic = '{sample_topic}' ORDER BY hour\").df()\n",
    "\n",
    "# Calculate consistent y-axis ranges for fair comparison\n",
    "burst_max = max(hourly_a['avg_burst_score'].max(),hourly_b['avg_burst_score'].max()) * 1.1\n",
    "volume_max = max(hourly_a['avg_volume'].max(), hourly_b['avg_volume'].max()) * 1.1\n",
    "\n",
    "# Create two-row subplot with shared y-axes\n",
    "# Left y-axis: Burst Score, Right y-axis: Volume\n",
    "# Use secondary_y for right y-axis\n",
    "# Use scatter for burst score (blue/coral points) and line for volume (grey trend)\n",
    "\n",
    "fig = make_subplots(rows=2, cols=1, \n",
    "                   subplot_titles=(f'World A: {sample_topic}', \n",
    "                                 f'World B: {sample_topic}'),\n",
    "                   specs=[[{\"secondary_y\": True}], [{\"secondary_y\": True}]])\n",
    "\n",
    "# World A timeline\n",
    "fig.add_trace(go.Scatter(x=hourly_a['hour'], y=hourly_a['avg_burst_score'], \n",
    "                        mode='lines+markers', name='Burst Score', line_color='blue'), \n",
    "              row=1, col=1, secondary_y=False)\n",
    "fig.add_trace(go.Scatter(x=hourly_a['hour'], y=hourly_a['avg_volume'], \n",
    "                        mode='lines', name='Volume', line_color='grey', opacity=0.7), \n",
    "              row=1, col=1, secondary_y=True)\n",
    "\n",
    "# World B timeline\n",
    "fig.add_trace(go.Scatter(x=hourly_b['hour'], y=hourly_b['avg_burst_score'], \n",
    "                        mode='lines+markers', name='Burst Score', line_color='red'), \n",
    "              row=2, col=1, secondary_y=False)\n",
    "fig.add_trace(go.Scatter(x=hourly_b['hour'], y=hourly_b['avg_volume'], \n",
    "                        mode='lines', name='Volume', line_color='grey', opacity=0.7), \n",
    "              row=2, col=1, secondary_y=True)\n",
    "\n",
    "# Set consistent y-axis ranges\n",
    "fig.update_yaxes(title_text=\"Burst Score\", range=[0, burst_max], secondary_y=False)\n",
    "fig.update_yaxes(title_text=\"Volume\", range=[0, volume_max], secondary_y=True)\n",
    "\n",
    "fig.update_layout(height=600, title=\"Temporal Patterns: Look for High Burst Scores and Volume Spikes\")\n",
    "fig.show()\n",
    "\n",
    "print(f\"\\nTemporal Analysis for {sample_topic}:\")\n",
    "print(f\"World A max burst score: {hourly_a['avg_burst_score'].max():.3f}\")\n",
    "print(f\"World B max burst score: {hourly_b['avg_burst_score'].max():.3f}\")\n",
    "print(f\"World A max volume: {hourly_a['avg_volume'].max():.0f}\")\n",
    "print(f\"World B max volume: {hourly_b['avg_volume'].max():.0f}\")"
   ]
  },
  {
   "cell_type": "markdown",
   "metadata": {},
   "source": [
    "## View 3. Explore Account Age and Automation\n",
    "\n",
    "Examine the relationship between account age and automation usage - a key indicator of manipulation."
   ]
  },
  {
   "cell_type": "code",
   "execution_count": 44,
   "metadata": {},
   "outputs": [
    {
     "name": "stdout",
     "output_type": "stream",
     "text": [
      "World A - Account Behavior (Top 5 topics):\n",
      "      topic  avg_new_accounts  avg_api_posting  \\\n",
      "0  d4e7f2a1             0.098            0.098   \n",
      "1  e8b3c6f9             0.097            0.099   \n",
      "2  a7f3d9e2             0.099            0.100   \n",
      "3  f1a5d8e2             0.099            0.099   \n",
      "4  h3d6a4e8             0.098            0.099   \n",
      "\n",
      "   new_account_automation_correlation  \n",
      "0                                0.01  \n",
      "1                                0.01  \n",
      "2                                0.01  \n",
      "3                                0.01  \n",
      "4                                0.01  \n",
      "\n",
      "World B - Account Behavior (Top 5 topics):\n",
      "      topic  avg_new_accounts  avg_api_posting  \\\n",
      "0  a7f3d9e2             0.457            0.438   \n",
      "1  l8c1d9a6             0.452            0.441   \n",
      "2  c9f6a3d8             0.267            0.261   \n",
      "3  b8e4c1f5             0.268            0.259   \n",
      "4  i9f8e1c7             0.164            0.195   \n",
      "\n",
      "   new_account_automation_correlation  \n",
      "0                               0.200  \n",
      "1                               0.199  \n",
      "2                               0.070  \n",
      "3                               0.069  \n",
      "4                               0.032  \n"
     ]
    },
    {
     "data": {
      "application/vnd.plotly.v1+json": {
       "config": {
        "plotlyServerURL": "https://plot.ly"
       },
       "data": [
        {
         "marker": {
          "color": "lightblue",
          "size": {
           "bdata": "VsLJyeLzM0BWwsnJ4vMzQFbCycni8zNAVsLJyeLzM0BWwsnJ4vMzQFbCycni8zNAVsLJyeLzM0BWwsnJ4vMzQFbCycni8zNAVsLJyeLzM0BWwsnJ4vMzQFbCycni8zNAVsLJyeLzM0BWwsnJ4vMzQFbCycni8zNA",
           "dtype": "f8"
          }
         },
         "mode": "markers",
         "name": "World A",
         "text": [
          "d4e7f2a1",
          "e8b3c6f9",
          "a7f3d9e2",
          "f1a5d8e2",
          "h3d6a4e8",
          "l8c1d9a6",
          "o7b9e4c1",
          "i9f8e1c7",
          "j2a9f5d3",
          "k6e4b7f1",
          "b8e4c1f5",
          "g7c2f9b4",
          "m4f7e3b8",
          "n1d5a8f2",
          "c9f6a3d8"
         ],
         "type": "scatter",
         "x": {
          "bdata": "SgwCK4cWuT+iRbbz/dS4P/LSTWIQWLk/8tJNYhBYuT9KDAIrhxa5P/LSTWIQWLk/mpmZmZmZuT/y0k1iEFi5P/LSTWIQWLk/mpmZmZmZuT+amZmZmZm5P/LSTWIQWLk/8tJNYhBYuT+amZmZmZm5P0oMAiuHFrk/",
          "dtype": "f8"
         },
         "xaxis": "x",
         "y": {
          "bdata": "SgwCK4cWuT/y0k1iEFi5P5qZmZmZmbk/8tJNYhBYuT/y0k1iEFi5P0oMAiuHFrk/8tJNYhBYuT9CYOXQItu5P5qZmZmZmbk/mpmZmZmZuT+amZmZmZm5P0Jg5dAi27k/SgwCK4cWuT+amZmZmZm5P0Jg5dAi27k/",
          "dtype": "f8"
         },
         "yaxis": "y"
        },
        {
         "marker": {
          "color": "lightcoral",
          "size": {
           "bdata": "poZO4hnCVkAskBCl769WQGzEuZolbkhAGSTPVEw8SEACDhiAxjtAQAIOGIDGO0BAICi8q37UN0BWwsnJ4vMzQFbCycni8zNAVsLJyeLzM0BWwsnJ4vMzQFbCycni8zNAVsLJyeLzM0BWwsnJ4vMzQFbCycni8zNA",
           "dtype": "f8"
          }
         },
         "mode": "markers",
         "name": "World B",
         "text": [
          "a7f3d9e2",
          "l8c1d9a6",
          "c9f6a3d8",
          "b8e4c1f5",
          "i9f8e1c7",
          "d4e7f2a1",
          "m4f7e3b8",
          "j2a9f5d3",
          "k6e4b7f1",
          "n1d5a8f2",
          "g7c2f9b4",
          "e8b3c6f9",
          "f1a5d8e2",
          "h3d6a4e8",
          "o7b9e4c1"
         ],
         "type": "scatter",
         "x": {
          "bdata": "c2iR7Xw/3T8hsHJoke3cP0oMAiuHFtE/9P3UeOkm0T/LoUW28/3EPx+F61G4HsU/wcqhRbbzvT+amZmZmZm5P0oMAiuHFrk/SgwCK4cWuT/y0k1iEFi5P/LSTWIQWLk/QmDl0CLbuT9CYOXQItu5P/LSTWIQWLk/",
          "dtype": "f8"
         },
         "xaxis": "x2",
         "y": {
          "bdata": "1XjpJjEI3D/TTWIQWDncP05iEFg5tNA/+n5qvHST0D/2KFyPwvXIP0oMAiuHFsk/9P3UeOkmwT9CYOXQItu5P0oMAiuHFrk/8tJNYhBYuT/y0k1iEFi5P/LSTWIQWLk/8tJNYhBYuT/y0k1iEFi5P/LSTWIQWLk/",
          "dtype": "f8"
         },
         "yaxis": "y2"
        }
       ],
       "layout": {
        "annotations": [
         {
          "font": {
           "size": 16
          },
          "showarrow": false,
          "text": "A: New Accounts using API",
          "x": 0.225,
          "xanchor": "center",
          "xref": "paper",
          "y": 1,
          "yanchor": "bottom",
          "yref": "paper"
         },
         {
          "font": {
           "size": 16
          },
          "showarrow": false,
          "text": "B: New Accounts using API",
          "x": 0.775,
          "xanchor": "center",
          "xref": "paper",
          "y": 1,
          "yanchor": "bottom",
          "yref": "paper"
         }
        ],
        "height": 500,
        "template": {
         "data": {
          "bar": [
           {
            "error_x": {
             "color": "#2a3f5f"
            },
            "error_y": {
             "color": "#2a3f5f"
            },
            "marker": {
             "line": {
              "color": "#E5ECF6",
              "width": 0.5
             },
             "pattern": {
              "fillmode": "overlay",
              "size": 10,
              "solidity": 0.2
             }
            },
            "type": "bar"
           }
          ],
          "barpolar": [
           {
            "marker": {
             "line": {
              "color": "#E5ECF6",
              "width": 0.5
             },
             "pattern": {
              "fillmode": "overlay",
              "size": 10,
              "solidity": 0.2
             }
            },
            "type": "barpolar"
           }
          ],
          "carpet": [
           {
            "aaxis": {
             "endlinecolor": "#2a3f5f",
             "gridcolor": "white",
             "linecolor": "white",
             "minorgridcolor": "white",
             "startlinecolor": "#2a3f5f"
            },
            "baxis": {
             "endlinecolor": "#2a3f5f",
             "gridcolor": "white",
             "linecolor": "white",
             "minorgridcolor": "white",
             "startlinecolor": "#2a3f5f"
            },
            "type": "carpet"
           }
          ],
          "choropleth": [
           {
            "colorbar": {
             "outlinewidth": 0,
             "ticks": ""
            },
            "type": "choropleth"
           }
          ],
          "contour": [
           {
            "colorbar": {
             "outlinewidth": 0,
             "ticks": ""
            },
            "colorscale": [
             [
              0,
              "#0d0887"
             ],
             [
              0.1111111111111111,
              "#46039f"
             ],
             [
              0.2222222222222222,
              "#7201a8"
             ],
             [
              0.3333333333333333,
              "#9c179e"
             ],
             [
              0.4444444444444444,
              "#bd3786"
             ],
             [
              0.5555555555555556,
              "#d8576b"
             ],
             [
              0.6666666666666666,
              "#ed7953"
             ],
             [
              0.7777777777777778,
              "#fb9f3a"
             ],
             [
              0.8888888888888888,
              "#fdca26"
             ],
             [
              1,
              "#f0f921"
             ]
            ],
            "type": "contour"
           }
          ],
          "contourcarpet": [
           {
            "colorbar": {
             "outlinewidth": 0,
             "ticks": ""
            },
            "type": "contourcarpet"
           }
          ],
          "heatmap": [
           {
            "colorbar": {
             "outlinewidth": 0,
             "ticks": ""
            },
            "colorscale": [
             [
              0,
              "#0d0887"
             ],
             [
              0.1111111111111111,
              "#46039f"
             ],
             [
              0.2222222222222222,
              "#7201a8"
             ],
             [
              0.3333333333333333,
              "#9c179e"
             ],
             [
              0.4444444444444444,
              "#bd3786"
             ],
             [
              0.5555555555555556,
              "#d8576b"
             ],
             [
              0.6666666666666666,
              "#ed7953"
             ],
             [
              0.7777777777777778,
              "#fb9f3a"
             ],
             [
              0.8888888888888888,
              "#fdca26"
             ],
             [
              1,
              "#f0f921"
             ]
            ],
            "type": "heatmap"
           }
          ],
          "histogram": [
           {
            "marker": {
             "pattern": {
              "fillmode": "overlay",
              "size": 10,
              "solidity": 0.2
             }
            },
            "type": "histogram"
           }
          ],
          "histogram2d": [
           {
            "colorbar": {
             "outlinewidth": 0,
             "ticks": ""
            },
            "colorscale": [
             [
              0,
              "#0d0887"
             ],
             [
              0.1111111111111111,
              "#46039f"
             ],
             [
              0.2222222222222222,
              "#7201a8"
             ],
             [
              0.3333333333333333,
              "#9c179e"
             ],
             [
              0.4444444444444444,
              "#bd3786"
             ],
             [
              0.5555555555555556,
              "#d8576b"
             ],
             [
              0.6666666666666666,
              "#ed7953"
             ],
             [
              0.7777777777777778,
              "#fb9f3a"
             ],
             [
              0.8888888888888888,
              "#fdca26"
             ],
             [
              1,
              "#f0f921"
             ]
            ],
            "type": "histogram2d"
           }
          ],
          "histogram2dcontour": [
           {
            "colorbar": {
             "outlinewidth": 0,
             "ticks": ""
            },
            "colorscale": [
             [
              0,
              "#0d0887"
             ],
             [
              0.1111111111111111,
              "#46039f"
             ],
             [
              0.2222222222222222,
              "#7201a8"
             ],
             [
              0.3333333333333333,
              "#9c179e"
             ],
             [
              0.4444444444444444,
              "#bd3786"
             ],
             [
              0.5555555555555556,
              "#d8576b"
             ],
             [
              0.6666666666666666,
              "#ed7953"
             ],
             [
              0.7777777777777778,
              "#fb9f3a"
             ],
             [
              0.8888888888888888,
              "#fdca26"
             ],
             [
              1,
              "#f0f921"
             ]
            ],
            "type": "histogram2dcontour"
           }
          ],
          "mesh3d": [
           {
            "colorbar": {
             "outlinewidth": 0,
             "ticks": ""
            },
            "type": "mesh3d"
           }
          ],
          "parcoords": [
           {
            "line": {
             "colorbar": {
              "outlinewidth": 0,
              "ticks": ""
             }
            },
            "type": "parcoords"
           }
          ],
          "pie": [
           {
            "automargin": true,
            "type": "pie"
           }
          ],
          "scatter": [
           {
            "fillpattern": {
             "fillmode": "overlay",
             "size": 10,
             "solidity": 0.2
            },
            "type": "scatter"
           }
          ],
          "scatter3d": [
           {
            "line": {
             "colorbar": {
              "outlinewidth": 0,
              "ticks": ""
             }
            },
            "marker": {
             "colorbar": {
              "outlinewidth": 0,
              "ticks": ""
             }
            },
            "type": "scatter3d"
           }
          ],
          "scattercarpet": [
           {
            "marker": {
             "colorbar": {
              "outlinewidth": 0,
              "ticks": ""
             }
            },
            "type": "scattercarpet"
           }
          ],
          "scattergeo": [
           {
            "marker": {
             "colorbar": {
              "outlinewidth": 0,
              "ticks": ""
             }
            },
            "type": "scattergeo"
           }
          ],
          "scattergl": [
           {
            "marker": {
             "colorbar": {
              "outlinewidth": 0,
              "ticks": ""
             }
            },
            "type": "scattergl"
           }
          ],
          "scattermap": [
           {
            "marker": {
             "colorbar": {
              "outlinewidth": 0,
              "ticks": ""
             }
            },
            "type": "scattermap"
           }
          ],
          "scattermapbox": [
           {
            "marker": {
             "colorbar": {
              "outlinewidth": 0,
              "ticks": ""
             }
            },
            "type": "scattermapbox"
           }
          ],
          "scatterpolar": [
           {
            "marker": {
             "colorbar": {
              "outlinewidth": 0,
              "ticks": ""
             }
            },
            "type": "scatterpolar"
           }
          ],
          "scatterpolargl": [
           {
            "marker": {
             "colorbar": {
              "outlinewidth": 0,
              "ticks": ""
             }
            },
            "type": "scatterpolargl"
           }
          ],
          "scatterternary": [
           {
            "marker": {
             "colorbar": {
              "outlinewidth": 0,
              "ticks": ""
             }
            },
            "type": "scatterternary"
           }
          ],
          "surface": [
           {
            "colorbar": {
             "outlinewidth": 0,
             "ticks": ""
            },
            "colorscale": [
             [
              0,
              "#0d0887"
             ],
             [
              0.1111111111111111,
              "#46039f"
             ],
             [
              0.2222222222222222,
              "#7201a8"
             ],
             [
              0.3333333333333333,
              "#9c179e"
             ],
             [
              0.4444444444444444,
              "#bd3786"
             ],
             [
              0.5555555555555556,
              "#d8576b"
             ],
             [
              0.6666666666666666,
              "#ed7953"
             ],
             [
              0.7777777777777778,
              "#fb9f3a"
             ],
             [
              0.8888888888888888,
              "#fdca26"
             ],
             [
              1,
              "#f0f921"
             ]
            ],
            "type": "surface"
           }
          ],
          "table": [
           {
            "cells": {
             "fill": {
              "color": "#EBF0F8"
             },
             "line": {
              "color": "white"
             }
            },
            "header": {
             "fill": {
              "color": "#C8D4E3"
             },
             "line": {
              "color": "white"
             }
            },
            "type": "table"
           }
          ]
         },
         "layout": {
          "annotationdefaults": {
           "arrowcolor": "#2a3f5f",
           "arrowhead": 0,
           "arrowwidth": 1
          },
          "autotypenumbers": "strict",
          "coloraxis": {
           "colorbar": {
            "outlinewidth": 0,
            "ticks": ""
           }
          },
          "colorscale": {
           "diverging": [
            [
             0,
             "#8e0152"
            ],
            [
             0.1,
             "#c51b7d"
            ],
            [
             0.2,
             "#de77ae"
            ],
            [
             0.3,
             "#f1b6da"
            ],
            [
             0.4,
             "#fde0ef"
            ],
            [
             0.5,
             "#f7f7f7"
            ],
            [
             0.6,
             "#e6f5d0"
            ],
            [
             0.7,
             "#b8e186"
            ],
            [
             0.8,
             "#7fbc41"
            ],
            [
             0.9,
             "#4d9221"
            ],
            [
             1,
             "#276419"
            ]
           ],
           "sequential": [
            [
             0,
             "#0d0887"
            ],
            [
             0.1111111111111111,
             "#46039f"
            ],
            [
             0.2222222222222222,
             "#7201a8"
            ],
            [
             0.3333333333333333,
             "#9c179e"
            ],
            [
             0.4444444444444444,
             "#bd3786"
            ],
            [
             0.5555555555555556,
             "#d8576b"
            ],
            [
             0.6666666666666666,
             "#ed7953"
            ],
            [
             0.7777777777777778,
             "#fb9f3a"
            ],
            [
             0.8888888888888888,
             "#fdca26"
            ],
            [
             1,
             "#f0f921"
            ]
           ],
           "sequentialminus": [
            [
             0,
             "#0d0887"
            ],
            [
             0.1111111111111111,
             "#46039f"
            ],
            [
             0.2222222222222222,
             "#7201a8"
            ],
            [
             0.3333333333333333,
             "#9c179e"
            ],
            [
             0.4444444444444444,
             "#bd3786"
            ],
            [
             0.5555555555555556,
             "#d8576b"
            ],
            [
             0.6666666666666666,
             "#ed7953"
            ],
            [
             0.7777777777777778,
             "#fb9f3a"
            ],
            [
             0.8888888888888888,
             "#fdca26"
            ],
            [
             1,
             "#f0f921"
            ]
           ]
          },
          "colorway": [
           "#636efa",
           "#EF553B",
           "#00cc96",
           "#ab63fa",
           "#FFA15A",
           "#19d3f3",
           "#FF6692",
           "#B6E880",
           "#FF97FF",
           "#FECB52"
          ],
          "font": {
           "color": "#2a3f5f"
          },
          "geo": {
           "bgcolor": "white",
           "lakecolor": "white",
           "landcolor": "#E5ECF6",
           "showlakes": true,
           "showland": true,
           "subunitcolor": "white"
          },
          "hoverlabel": {
           "align": "left"
          },
          "hovermode": "closest",
          "mapbox": {
           "style": "light"
          },
          "paper_bgcolor": "white",
          "plot_bgcolor": "#E5ECF6",
          "polar": {
           "angularaxis": {
            "gridcolor": "white",
            "linecolor": "white",
            "ticks": ""
           },
           "bgcolor": "#E5ECF6",
           "radialaxis": {
            "gridcolor": "white",
            "linecolor": "white",
            "ticks": ""
           }
          },
          "scene": {
           "xaxis": {
            "backgroundcolor": "#E5ECF6",
            "gridcolor": "white",
            "gridwidth": 2,
            "linecolor": "white",
            "showbackground": true,
            "ticks": "",
            "zerolinecolor": "white"
           },
           "yaxis": {
            "backgroundcolor": "#E5ECF6",
            "gridcolor": "white",
            "gridwidth": 2,
            "linecolor": "white",
            "showbackground": true,
            "ticks": "",
            "zerolinecolor": "white"
           },
           "zaxis": {
            "backgroundcolor": "#E5ECF6",
            "gridcolor": "white",
            "gridwidth": 2,
            "linecolor": "white",
            "showbackground": true,
            "ticks": "",
            "zerolinecolor": "white"
           }
          },
          "shapedefaults": {
           "line": {
            "color": "#2a3f5f"
           }
          },
          "ternary": {
           "aaxis": {
            "gridcolor": "white",
            "linecolor": "white",
            "ticks": ""
           },
           "baxis": {
            "gridcolor": "white",
            "linecolor": "white",
            "ticks": ""
           },
           "bgcolor": "#E5ECF6",
           "caxis": {
            "gridcolor": "white",
            "linecolor": "white",
            "ticks": ""
           }
          },
          "title": {
           "x": 0.05
          },
          "xaxis": {
           "automargin": true,
           "gridcolor": "white",
           "linecolor": "white",
           "ticks": "",
           "title": {
            "standoff": 15
           },
           "zerolinecolor": "white",
           "zerolinewidth": 2
          },
          "yaxis": {
           "automargin": true,
           "gridcolor": "white",
           "linecolor": "white",
           "ticks": "",
           "title": {
            "standoff": 15
           },
           "zerolinecolor": "white",
           "zerolinewidth": 2
          }
         }
        },
        "title": {
         "text": "Account Age vs API Automation: Larger bubbles = higher correlation"
        },
        "xaxis": {
         "anchor": "y",
         "domain": [
          0,
          0.45
         ],
         "range": [
          0,
          0.5027
         ],
         "title": {
          "text": "Avg New Accounts (0-7 days)"
         }
        },
        "xaxis2": {
         "anchor": "y2",
         "domain": [
          0.55,
          1
         ],
         "range": [
          0,
          0.5027
         ],
         "title": {
          "text": "Avg New Accounts (0-7 days)"
         }
        },
        "yaxis": {
         "anchor": "x",
         "domain": [
          0,
          1
         ],
         "range": [
          0,
          0.48510000000000003
         ],
         "title": {
          "text": "Avg API Posting"
         }
        },
        "yaxis2": {
         "anchor": "x2",
         "domain": [
          0,
          1
         ],
         "range": [
          0,
          0.48510000000000003
         ],
         "title": {
          "text": "Avg API Posting"
         }
        }
       }
      }
     },
     "metadata": {},
     "output_type": "display_data"
    },
    {
     "name": "stdout",
     "output_type": "stream",
     "text": [
      "\n",
      "Automation Correlation Analysis:\n",
      "World A avg correlation: 0.010\n",
      "World B avg correlation: 0.047\n",
      "\n",
      "Higher correlation (bubble sizes) indicate fraction\n",
      "of new accounts that are using automated posting tools.\n"
     ]
    }
   ],
   "source": [
    "# Account behavior patterns\n",
    "acct_a = world_a.execute(\"SELECT * FROM vw_account_behavior ORDER BY new_account_automation_correlation DESC\").df()\n",
    "acct_b = world_b.execute(\"SELECT * FROM vw_account_behavior ORDER BY new_account_automation_correlation DESC\").df()\n",
    "\n",
    "print(\"World A - Account Behavior (Top 5 topics):\")\n",
    "print(acct_a[['topic', 'avg_new_accounts', 'avg_api_posting', 'new_account_automation_correlation']].head())\n",
    "\n",
    "print(\"\\nWorld B - Account Behavior (Top 5 topics):\")\n",
    "print(acct_b[['topic', 'avg_new_accounts', 'avg_api_posting', 'new_account_automation_correlation']].head())\n",
    "\n",
    "# Calculate consistent axis ranges\n",
    "x_max = max(acct_a['avg_new_accounts'].max(), acct_b['avg_new_accounts'].max()) * 1.1\n",
    "y_max = max(acct_a['avg_api_posting'].max(), acct_b['avg_api_posting'].max()) * 1.1\n",
    "\n",
    "# Display side-by-side scatter plots with same scale\n",
    "# Make the size of the bubbles proportional to the correlation value\n",
    "# Larger bubbles = higher correlation\n",
    "# The correlations range from 0.01 to 0.2\n",
    "# Minimum bubble size = 10 pixels, maximum size = 50\n",
    "min_size = 10\n",
    "scale_factor = 50.0/0.2\n",
    "\n",
    "# For World A\n",
    "size_a = min_size + (acct_a['new_account_automation_correlation'] ** 0.7) * scale_factor\n",
    "\n",
    "# For World B  \n",
    "size_b = min_size + (acct_b['new_account_automation_correlation'] ** 0.7) * scale_factor\n",
    "\n",
    "fig = make_subplots(rows=1, cols=2, \n",
    "                   subplot_titles=(\n",
    "                       'A: New Accounts using API', \n",
    "                       'B: New Accounts using API'))\n",
    "\n",
    "fig.add_trace(go.Scatter(x=acct_a['avg_new_accounts'], y=acct_a['avg_api_posting'], \n",
    "                        mode='markers', \n",
    "                        marker=dict(size=size_a, color='lightblue'),\n",
    "                        text=acct_a['topic'], name='World A'), \n",
    "              row=1, col=1)\n",
    "\n",
    "fig.add_trace(go.Scatter(x=acct_b['avg_new_accounts'], y=acct_b['avg_api_posting'], \n",
    "                        mode='markers',\n",
    "                        marker=dict(size=size_b, color='lightcoral'),\n",
    "                        text=acct_b['topic'], name='World B'), \n",
    "              row=1, col=2)\n",
    "\n",
    "# Set consistent axis ranges\n",
    "fig.update_xaxes(title_text=\"Avg New Accounts (0-7 days)\", range=[0, x_max])\n",
    "fig.update_yaxes(title_text=\"Avg API Posting\", range=[0, y_max])\n",
    "\n",
    "fig.update_layout(height=500, title=\"Account Age vs API Automation: Larger bubbles = higher correlation\")\n",
    "fig.show()\n",
    "\n",
    "print(\"\\nAutomation Correlation Analysis:\")\n",
    "print(f\"World A avg correlation: {acct_a['new_account_automation_correlation'].mean():.3f}\")\n",
    "print(f\"World B avg correlation: {acct_b['new_account_automation_correlation'].mean():.3f}\")\n",
    "print(\"\\nHigher correlation (bubble sizes) indicate fraction\")\n",
    "print(\"of new accounts that are using automated posting tools.\")"
   ]
  },
  {
   "cell_type": "markdown",
   "metadata": {},
   "source": [
    "## View 4. How Coordinated is the Content? \n",
    "\n",
    "Let's use side-by-side box plots to review coordination between the two worlds. "
   ]
  },
  {
   "cell_type": "code",
   "execution_count": 45,
   "metadata": {},
   "outputs": [
    {
     "name": "stdout",
     "output_type": "stream",
     "text": [
      "World A - Content Patterns:"
     ]
    },
    {
     "name": "stdout",
     "output_type": "stream",
     "text": [
      "\n",
      "      topic  avg_reshare_ratio  avg_recycled_content  high_recycling_points  \\\n",
      "0  g7c2f9b4              0.353                 0.101                      0   \n",
      "1  h3d6a4e8              0.353                 0.100                      0   \n",
      "2  o7b9e4c1              0.353                 0.101                      0   \n",
      "3  c9f6a3d8              0.352                 0.101                      0   \n",
      "4  n1d5a8f2              0.354                 0.098                      0   \n",
      "\n",
      "   content_coordination_score  \n",
      "0                       0.227  \n",
      "1                       0.227  \n",
      "2                       0.227  \n",
      "3                       0.227  \n",
      "4                       0.226  \n",
      "\n",
      "World B - Content Patterns:\n",
      "      topic  avg_reshare_ratio  avg_recycled_content  high_recycling_points  \\\n",
      "0  a7f3d9e2              0.873                 0.651                    900   \n",
      "1  l8c1d9a6              0.874                 0.648                    900   \n",
      "2  b8e4c1f5              0.651                 0.352                      0   \n",
      "3  c9f6a3d8              0.647                 0.352                      0   \n",
      "4  d4e7f2a1              0.500                 0.225                      0   \n",
      "\n",
      "   content_coordination_score  \n",
      "0                       0.762  \n",
      "1                       0.761  \n",
      "2                       0.501  \n",
      "3                       0.499  \n",
      "4                       0.362  \n"
     ]
    },
    {
     "data": {
      "application/vnd.plotly.v1+json": {
       "config": {
        "plotlyServerURL": "https://plot.ly"
       },
       "data": [
        {
         "marker": {
          "color": "lightblue"
         },
         "name": "World A",
         "type": "box",
         "y": {
          "bdata": "dZMYBFYOzT91kxgEVg7NP3WTGARWDs0/dZMYBFYOzT8hsHJoke3MPyGwcmiR7cw/IbByaJHtzD8hsHJoke3MP83MzMzMzMw/zczMzMzMzD/NzMzMzMzMP3npJjEIrMw/eekmMQiszD956SYxCKzMP3npJjEIrMw/",
          "dtype": "f8"
         }
        },
        {
         "marker": {
          "color": "lightcoral"
         },
         "name": "World B",
         "type": "box",
         "y": {
          "bdata": "/Knx0k1i6D8nMQisHFroP9V46SYxCOA/Vg4tsp3v3z9eukkMAivXP7TIdr6fGtc/8tJNYhBY0T8hsHJoke3MPyGwcmiR7cw/zczMzMzMzD/NzMzMzMzMP83MzMzMzMw/eekmMQiszD956SYxCKzMP3npJjEIrMw/",
          "dtype": "f8"
         }
        }
       ],
       "layout": {
        "template": {
         "data": {
          "bar": [
           {
            "error_x": {
             "color": "#2a3f5f"
            },
            "error_y": {
             "color": "#2a3f5f"
            },
            "marker": {
             "line": {
              "color": "#E5ECF6",
              "width": 0.5
             },
             "pattern": {
              "fillmode": "overlay",
              "size": 10,
              "solidity": 0.2
             }
            },
            "type": "bar"
           }
          ],
          "barpolar": [
           {
            "marker": {
             "line": {
              "color": "#E5ECF6",
              "width": 0.5
             },
             "pattern": {
              "fillmode": "overlay",
              "size": 10,
              "solidity": 0.2
             }
            },
            "type": "barpolar"
           }
          ],
          "carpet": [
           {
            "aaxis": {
             "endlinecolor": "#2a3f5f",
             "gridcolor": "white",
             "linecolor": "white",
             "minorgridcolor": "white",
             "startlinecolor": "#2a3f5f"
            },
            "baxis": {
             "endlinecolor": "#2a3f5f",
             "gridcolor": "white",
             "linecolor": "white",
             "minorgridcolor": "white",
             "startlinecolor": "#2a3f5f"
            },
            "type": "carpet"
           }
          ],
          "choropleth": [
           {
            "colorbar": {
             "outlinewidth": 0,
             "ticks": ""
            },
            "type": "choropleth"
           }
          ],
          "contour": [
           {
            "colorbar": {
             "outlinewidth": 0,
             "ticks": ""
            },
            "colorscale": [
             [
              0,
              "#0d0887"
             ],
             [
              0.1111111111111111,
              "#46039f"
             ],
             [
              0.2222222222222222,
              "#7201a8"
             ],
             [
              0.3333333333333333,
              "#9c179e"
             ],
             [
              0.4444444444444444,
              "#bd3786"
             ],
             [
              0.5555555555555556,
              "#d8576b"
             ],
             [
              0.6666666666666666,
              "#ed7953"
             ],
             [
              0.7777777777777778,
              "#fb9f3a"
             ],
             [
              0.8888888888888888,
              "#fdca26"
             ],
             [
              1,
              "#f0f921"
             ]
            ],
            "type": "contour"
           }
          ],
          "contourcarpet": [
           {
            "colorbar": {
             "outlinewidth": 0,
             "ticks": ""
            },
            "type": "contourcarpet"
           }
          ],
          "heatmap": [
           {
            "colorbar": {
             "outlinewidth": 0,
             "ticks": ""
            },
            "colorscale": [
             [
              0,
              "#0d0887"
             ],
             [
              0.1111111111111111,
              "#46039f"
             ],
             [
              0.2222222222222222,
              "#7201a8"
             ],
             [
              0.3333333333333333,
              "#9c179e"
             ],
             [
              0.4444444444444444,
              "#bd3786"
             ],
             [
              0.5555555555555556,
              "#d8576b"
             ],
             [
              0.6666666666666666,
              "#ed7953"
             ],
             [
              0.7777777777777778,
              "#fb9f3a"
             ],
             [
              0.8888888888888888,
              "#fdca26"
             ],
             [
              1,
              "#f0f921"
             ]
            ],
            "type": "heatmap"
           }
          ],
          "histogram": [
           {
            "marker": {
             "pattern": {
              "fillmode": "overlay",
              "size": 10,
              "solidity": 0.2
             }
            },
            "type": "histogram"
           }
          ],
          "histogram2d": [
           {
            "colorbar": {
             "outlinewidth": 0,
             "ticks": ""
            },
            "colorscale": [
             [
              0,
              "#0d0887"
             ],
             [
              0.1111111111111111,
              "#46039f"
             ],
             [
              0.2222222222222222,
              "#7201a8"
             ],
             [
              0.3333333333333333,
              "#9c179e"
             ],
             [
              0.4444444444444444,
              "#bd3786"
             ],
             [
              0.5555555555555556,
              "#d8576b"
             ],
             [
              0.6666666666666666,
              "#ed7953"
             ],
             [
              0.7777777777777778,
              "#fb9f3a"
             ],
             [
              0.8888888888888888,
              "#fdca26"
             ],
             [
              1,
              "#f0f921"
             ]
            ],
            "type": "histogram2d"
           }
          ],
          "histogram2dcontour": [
           {
            "colorbar": {
             "outlinewidth": 0,
             "ticks": ""
            },
            "colorscale": [
             [
              0,
              "#0d0887"
             ],
             [
              0.1111111111111111,
              "#46039f"
             ],
             [
              0.2222222222222222,
              "#7201a8"
             ],
             [
              0.3333333333333333,
              "#9c179e"
             ],
             [
              0.4444444444444444,
              "#bd3786"
             ],
             [
              0.5555555555555556,
              "#d8576b"
             ],
             [
              0.6666666666666666,
              "#ed7953"
             ],
             [
              0.7777777777777778,
              "#fb9f3a"
             ],
             [
              0.8888888888888888,
              "#fdca26"
             ],
             [
              1,
              "#f0f921"
             ]
            ],
            "type": "histogram2dcontour"
           }
          ],
          "mesh3d": [
           {
            "colorbar": {
             "outlinewidth": 0,
             "ticks": ""
            },
            "type": "mesh3d"
           }
          ],
          "parcoords": [
           {
            "line": {
             "colorbar": {
              "outlinewidth": 0,
              "ticks": ""
             }
            },
            "type": "parcoords"
           }
          ],
          "pie": [
           {
            "automargin": true,
            "type": "pie"
           }
          ],
          "scatter": [
           {
            "fillpattern": {
             "fillmode": "overlay",
             "size": 10,
             "solidity": 0.2
            },
            "type": "scatter"
           }
          ],
          "scatter3d": [
           {
            "line": {
             "colorbar": {
              "outlinewidth": 0,
              "ticks": ""
             }
            },
            "marker": {
             "colorbar": {
              "outlinewidth": 0,
              "ticks": ""
             }
            },
            "type": "scatter3d"
           }
          ],
          "scattercarpet": [
           {
            "marker": {
             "colorbar": {
              "outlinewidth": 0,
              "ticks": ""
             }
            },
            "type": "scattercarpet"
           }
          ],
          "scattergeo": [
           {
            "marker": {
             "colorbar": {
              "outlinewidth": 0,
              "ticks": ""
             }
            },
            "type": "scattergeo"
           }
          ],
          "scattergl": [
           {
            "marker": {
             "colorbar": {
              "outlinewidth": 0,
              "ticks": ""
             }
            },
            "type": "scattergl"
           }
          ],
          "scattermap": [
           {
            "marker": {
             "colorbar": {
              "outlinewidth": 0,
              "ticks": ""
             }
            },
            "type": "scattermap"
           }
          ],
          "scattermapbox": [
           {
            "marker": {
             "colorbar": {
              "outlinewidth": 0,
              "ticks": ""
             }
            },
            "type": "scattermapbox"
           }
          ],
          "scatterpolar": [
           {
            "marker": {
             "colorbar": {
              "outlinewidth": 0,
              "ticks": ""
             }
            },
            "type": "scatterpolar"
           }
          ],
          "scatterpolargl": [
           {
            "marker": {
             "colorbar": {
              "outlinewidth": 0,
              "ticks": ""
             }
            },
            "type": "scatterpolargl"
           }
          ],
          "scatterternary": [
           {
            "marker": {
             "colorbar": {
              "outlinewidth": 0,
              "ticks": ""
             }
            },
            "type": "scatterternary"
           }
          ],
          "surface": [
           {
            "colorbar": {
             "outlinewidth": 0,
             "ticks": ""
            },
            "colorscale": [
             [
              0,
              "#0d0887"
             ],
             [
              0.1111111111111111,
              "#46039f"
             ],
             [
              0.2222222222222222,
              "#7201a8"
             ],
             [
              0.3333333333333333,
              "#9c179e"
             ],
             [
              0.4444444444444444,
              "#bd3786"
             ],
             [
              0.5555555555555556,
              "#d8576b"
             ],
             [
              0.6666666666666666,
              "#ed7953"
             ],
             [
              0.7777777777777778,
              "#fb9f3a"
             ],
             [
              0.8888888888888888,
              "#fdca26"
             ],
             [
              1,
              "#f0f921"
             ]
            ],
            "type": "surface"
           }
          ],
          "table": [
           {
            "cells": {
             "fill": {
              "color": "#EBF0F8"
             },
             "line": {
              "color": "white"
             }
            },
            "header": {
             "fill": {
              "color": "#C8D4E3"
             },
             "line": {
              "color": "white"
             }
            },
            "type": "table"
           }
          ]
         },
         "layout": {
          "annotationdefaults": {
           "arrowcolor": "#2a3f5f",
           "arrowhead": 0,
           "arrowwidth": 1
          },
          "autotypenumbers": "strict",
          "coloraxis": {
           "colorbar": {
            "outlinewidth": 0,
            "ticks": ""
           }
          },
          "colorscale": {
           "diverging": [
            [
             0,
             "#8e0152"
            ],
            [
             0.1,
             "#c51b7d"
            ],
            [
             0.2,
             "#de77ae"
            ],
            [
             0.3,
             "#f1b6da"
            ],
            [
             0.4,
             "#fde0ef"
            ],
            [
             0.5,
             "#f7f7f7"
            ],
            [
             0.6,
             "#e6f5d0"
            ],
            [
             0.7,
             "#b8e186"
            ],
            [
             0.8,
             "#7fbc41"
            ],
            [
             0.9,
             "#4d9221"
            ],
            [
             1,
             "#276419"
            ]
           ],
           "sequential": [
            [
             0,
             "#0d0887"
            ],
            [
             0.1111111111111111,
             "#46039f"
            ],
            [
             0.2222222222222222,
             "#7201a8"
            ],
            [
             0.3333333333333333,
             "#9c179e"
            ],
            [
             0.4444444444444444,
             "#bd3786"
            ],
            [
             0.5555555555555556,
             "#d8576b"
            ],
            [
             0.6666666666666666,
             "#ed7953"
            ],
            [
             0.7777777777777778,
             "#fb9f3a"
            ],
            [
             0.8888888888888888,
             "#fdca26"
            ],
            [
             1,
             "#f0f921"
            ]
           ],
           "sequentialminus": [
            [
             0,
             "#0d0887"
            ],
            [
             0.1111111111111111,
             "#46039f"
            ],
            [
             0.2222222222222222,
             "#7201a8"
            ],
            [
             0.3333333333333333,
             "#9c179e"
            ],
            [
             0.4444444444444444,
             "#bd3786"
            ],
            [
             0.5555555555555556,
             "#d8576b"
            ],
            [
             0.6666666666666666,
             "#ed7953"
            ],
            [
             0.7777777777777778,
             "#fb9f3a"
            ],
            [
             0.8888888888888888,
             "#fdca26"
            ],
            [
             1,
             "#f0f921"
            ]
           ]
          },
          "colorway": [
           "#636efa",
           "#EF553B",
           "#00cc96",
           "#ab63fa",
           "#FFA15A",
           "#19d3f3",
           "#FF6692",
           "#B6E880",
           "#FF97FF",
           "#FECB52"
          ],
          "font": {
           "color": "#2a3f5f"
          },
          "geo": {
           "bgcolor": "white",
           "lakecolor": "white",
           "landcolor": "#E5ECF6",
           "showlakes": true,
           "showland": true,
           "subunitcolor": "white"
          },
          "hoverlabel": {
           "align": "left"
          },
          "hovermode": "closest",
          "mapbox": {
           "style": "light"
          },
          "paper_bgcolor": "white",
          "plot_bgcolor": "#E5ECF6",
          "polar": {
           "angularaxis": {
            "gridcolor": "white",
            "linecolor": "white",
            "ticks": ""
           },
           "bgcolor": "#E5ECF6",
           "radialaxis": {
            "gridcolor": "white",
            "linecolor": "white",
            "ticks": ""
           }
          },
          "scene": {
           "xaxis": {
            "backgroundcolor": "#E5ECF6",
            "gridcolor": "white",
            "gridwidth": 2,
            "linecolor": "white",
            "showbackground": true,
            "ticks": "",
            "zerolinecolor": "white"
           },
           "yaxis": {
            "backgroundcolor": "#E5ECF6",
            "gridcolor": "white",
            "gridwidth": 2,
            "linecolor": "white",
            "showbackground": true,
            "ticks": "",
            "zerolinecolor": "white"
           },
           "zaxis": {
            "backgroundcolor": "#E5ECF6",
            "gridcolor": "white",
            "gridwidth": 2,
            "linecolor": "white",
            "showbackground": true,
            "ticks": "",
            "zerolinecolor": "white"
           }
          },
          "shapedefaults": {
           "line": {
            "color": "#2a3f5f"
           }
          },
          "ternary": {
           "aaxis": {
            "gridcolor": "white",
            "linecolor": "white",
            "ticks": ""
           },
           "baxis": {
            "gridcolor": "white",
            "linecolor": "white",
            "ticks": ""
           },
           "bgcolor": "#E5ECF6",
           "caxis": {
            "gridcolor": "white",
            "linecolor": "white",
            "ticks": ""
           }
          },
          "title": {
           "x": 0.05
          },
          "xaxis": {
           "automargin": true,
           "gridcolor": "white",
           "linecolor": "white",
           "ticks": "",
           "title": {
            "standoff": 15
           },
           "zerolinecolor": "white",
           "zerolinewidth": 2
          },
          "yaxis": {
           "automargin": true,
           "gridcolor": "white",
           "linecolor": "white",
           "ticks": "",
           "title": {
            "standoff": 15
           },
           "zerolinecolor": "white",
           "zerolinewidth": 2
          }
         }
        },
        "title": {
         "text": "Content Coordination Score Distribution"
        },
        "yaxis": {
         "title": {
          "text": "Coordination Score"
         }
        }
       }
      }
     },
     "metadata": {},
     "output_type": "display_data"
    },
    {
     "name": "stdout",
     "output_type": "stream",
     "text": [
      "\n",
      "Content Analysis:\n",
      "World A avg coordination score: 0.226\n",
      "World B avg coordination score: 0.354\n"
     ]
    }
   ],
   "source": [
    "# Content patterns\n",
    "content_a = world_a.execute(\"SELECT * FROM vw_content_patterns ORDER BY content_coordination_score DESC\").df()\n",
    "content_b = world_b.execute(\"SELECT * FROM vw_content_patterns ORDER BY content_coordination_score DESC\").df()\n",
    "\n",
    "print(\"World A - Content Patterns:\")\n",
    "print(content_a[['topic', 'avg_reshare_ratio', 'avg_recycled_content', 'high_recycling_points', 'content_coordination_score']].head())\n",
    "\n",
    "print(\"\\nWorld B - Content Patterns:\")\n",
    "print(content_b[['topic', 'avg_reshare_ratio', 'avg_recycled_content', 'high_recycling_points', 'content_coordination_score']].head())\n",
    "\n",
    "# Compare content coordination scores\n",
    "fig = go.Figure()\n",
    "fig.add_trace(go.Box(y=content_a['content_coordination_score'], name='World A', marker_color='lightblue'))\n",
    "fig.add_trace(go.Box(y=content_b['content_coordination_score'], name='World B', marker_color='lightcoral'))\n",
    "fig.update_layout(title=\"Content Coordination Score Distribution\", yaxis_title=\"Coordination Score\")\n",
    "fig.show()\n",
    "\n",
    "print(f\"\\nContent Analysis:\")\n",
    "print(f\"World A avg coordination score: {content_a['content_coordination_score'].mean():.3f}\")\n",
    "print(f\"World B avg coordination score: {content_b['content_coordination_score'].mean():.3f}\")"
   ]
  },
  {
   "cell_type": "markdown",
   "metadata": {},
   "source": [
    "## View 5. A Closer Look at Events with \"High Manipulation\" Scores\n",
    "\n",
    "Let's examine the highest-scoring individual events that might indicate coordination."
   ]
  },
  {
   "cell_type": "code",
   "execution_count": 46,
   "metadata": {},
   "outputs": [
    {
     "name": "stdout",
     "output_type": "stream",
     "text": [
      "World A - Top 8 Suspicious Events:\n",
      "   topic                  ts  volume  burst_score  synchrony_index  manipulation_score\n",
      "l8c1d9a6 2026-02-03 20:39:00     156     0.243485         0.341885               0.256\n",
      "k6e4b7f1 2026-02-03 20:01:00      61     0.245058         0.349634               0.256\n",
      "l8c1d9a6 2026-02-01 11:18:00      87     0.246135         0.344162               0.254\n",
      "j2a9f5d3 2026-02-03 20:00:00     146     0.249824         0.334791               0.252\n",
      "b8e4c1f5 2026-02-01 20:55:00     173     0.222675         0.347477               0.251\n",
      "m4f7e3b8 2026-02-01 09:11:00     155     0.249197         0.345561               0.251\n",
      "c9f6a3d8 2026-02-01 09:09:00     186     0.245361         0.343014               0.250\n",
      "c9f6a3d8 2026-02-03 08:23:00      50     0.237557         0.340458               0.250\n",
      "\n",
      "World B - Top 8 Suspicious Events:\n",
      "   topic                  ts  volume  burst_score  synchrony_index  manipulation_score\n",
      "a7f3d9e2 2026-02-02 14:56:00     684     0.979941         0.947407               0.874\n",
      "l8c1d9a6 2026-02-03 21:47:00     630     0.969234         0.940746               0.873\n",
      "a7f3d9e2 2026-02-03 10:53:00     836     0.976313         0.947139               0.873\n",
      "l8c1d9a6 2026-02-03 21:36:00     792     0.979019         0.932940               0.872\n",
      "a7f3d9e2 2026-02-03 20:38:00     816     0.967751         0.949309               0.872\n",
      "l8c1d9a6 2026-02-02 12:16:00     608     0.949704         0.945688               0.871\n",
      "l8c1d9a6 2026-02-03 10:22:00     850     0.954309         0.940078               0.869\n",
      "a7f3d9e2 2026-02-03 20:05:00     878     0.974821         0.935193               0.868\n",
      "\n",
      "Manipulation Score Analysis:\n",
      "World A highest score: 0.256\n",
      "World B highest score: 0.874\n",
      "World A avg top-8 score: 0.253\n",
      "World B avg top-8 score: 0.871\n"
     ]
    }
   ],
   "source": [
    "# Top manipulation events from each world\n",
    "manip_a = world_a.execute(\"SELECT * FROM vw_manipulation_indicators ORDER BY manipulation_score DESC LIMIT 8\").df()\n",
    "manip_b = world_b.execute(\"SELECT * FROM vw_manipulation_indicators ORDER BY manipulation_score DESC LIMIT 8\").df()\n",
    "\n",
    "print(\"World A - Top 8 Suspicious Events:\")\n",
    "print(manip_a[['topic', 'ts', 'volume', 'burst_score', 'synchrony_index', 'manipulation_score']].to_string(index=False))\n",
    "\n",
    "print(\"\\nWorld B - Top 8 Suspicious Events:\")\n",
    "print(manip_b[['topic', 'ts', 'volume', 'burst_score', 'synchrony_index', 'manipulation_score']].to_string(index=False))\n",
    "\n",
    "print(\"\\nManipulation Score Analysis:\")\n",
    "print(f\"World A highest score: {manip_a['manipulation_score'].max():.3f}\")\n",
    "print(f\"World B highest score: {manip_b['manipulation_score'].max():.3f}\")\n",
    "print(f\"World A avg top-8 score: {manip_a['manipulation_score'].mean():.3f}\")\n",
    "print(f\"World B avg top-8 score: {manip_b['manipulation_score'].mean():.3f}\")"
   ]
  },
  {
   "cell_type": "markdown",
   "metadata": {},
   "source": [
    "## View 6. Comparing the Two Worlds (Overall Assessment)"
   ]
  },
  {
   "cell_type": "code",
   "execution_count": 47,
   "metadata": {},
   "outputs": [
    {
     "name": "stdout",
     "output_type": "stream",
     "text": [
      "WORLD COMPARISON SUMMARY\n",
      "==================================================\n",
      "WORLD A:\n",
      "  Total topics: 15\n",
      "  Data points: 13,500\n",
      "  Avg burst score: 0.151\n",
      "  Avg synchrony: 0.226\n",
      "  Coordinated events: 0\n",
      "  Coordination percentage: 0.00%\n",
      "\n",
      "WORLD B:\n",
      "  Total topics: 15\n",
      "  Data points: 13,500\n",
      "  Avg burst score: 0.344\n",
      "  Avg synchrony: 0.398\n",
      "  Coordinated events: 1861\n",
      "  Coordination percentage: 13.79%\n",
      "==================================================\n",
      "\n",
      "KEY DIFFERENCES:\n",
      "Coordination % difference: 13.79 percentage points\n",
      "Burst score difference: 0.193\n",
      "Coordinated events difference: 1861\n"
     ]
    }
   ],
   "source": [
    "# Overall diagnostic\n",
    "diag_a = world_a.execute(\"SELECT * FROM vw_world_diagnosis\").df()\n",
    "diag_b = world_b.execute(\"SELECT * FROM vw_world_diagnosis\").df()\n",
    "\n",
    "print(\"WORLD COMPARISON SUMMARY\")\n",
    "print(\"=\" * 50)\n",
    "\n",
    "print(\"WORLD A:\")\n",
    "print(f\"  Total topics: {diag_a['total_topics'].iloc[0]}\")\n",
    "print(f\"  Data points: {diag_a['total_data_points'].iloc[0]:,}\")\n",
    "print(f\"  Avg burst score: {diag_a['overall_avg_burst_score'].iloc[0]:.3f}\")\n",
    "print(f\"  Avg synchrony: {diag_a['overall_avg_synchrony_index'].iloc[0]:.3f}\")\n",
    "print(f\"  Coordinated events: {diag_a['coordinated_events'].iloc[0]}\")\n",
    "print(f\"  Coordination percentage: {diag_a['coordination_percentage'].iloc[0]:.2f}%\")\n",
    "\n",
    "print(\"\\nWORLD B:\")\n",
    "print(f\"  Total topics: {diag_b['total_topics'].iloc[0]}\")\n",
    "print(f\"  Data points: {diag_b['total_data_points'].iloc[0]:,}\")\n",
    "print(f\"  Avg burst score: {diag_b['overall_avg_burst_score'].iloc[0]:.3f}\")\n",
    "print(f\"  Avg synchrony: {diag_b['overall_avg_synchrony_index'].iloc[0]:.3f}\")\n",
    "print(f\"  Coordinated events: {diag_b['coordinated_events'].iloc[0]}\")\n",
    "print(f\"  Coordination percentage: {diag_b['coordination_percentage'].iloc[0]:.2f}%\")\n",
    "\n",
    "print(\"=\" * 50)\n",
    "\n",
    "# Calculate differences\n",
    "coord_diff = diag_b['coordination_percentage'].iloc[0] - diag_a['coordination_percentage'].iloc[0]\n",
    "burst_diff = diag_b['overall_avg_burst_score'].iloc[0] - diag_a['overall_avg_burst_score'].iloc[0]\n",
    "\n",
    "print(\"\\nKEY DIFFERENCES:\")\n",
    "print(f\"Coordination % difference: {coord_diff:.2f} percentage points\")\n",
    "print(f\"Burst score difference: {burst_diff:.3f}\")\n",
    "print(f\"Coordinated events difference: {diag_b['coordinated_events'].iloc[0] - diag_a['coordinated_events'].iloc[0]}\")"
   ]
  },
  {
   "cell_type": "markdown",
   "metadata": {},
   "source": [
    "## Your Analysis and Conclusion\n",
    "\n",
    "Look at how the different metrics compare between the two worlds and between different topics.\n",
    "Do you see any evidence of possible manipulation (or lack thereof)?\n",
    "Based on the patterns you've observed, answer these questions:\n",
    "\n",
    "1. **Which world shows organic civic discourse?** Look for: Lower burst scores, fewer coordinated events, natural temporal patterns\n",
    "\n",
    "2. **Which world shows signs of coordinated manipulation?** Look for: High burst scores, synchronized posting, suspicious account patterns\n",
    "\n",
    "3. **What specific evidence supports your conclusions?** Point to concrete numbers and patterns from your analysis\n",
    "\n",
    "4. **Which topics and timeframes were most suspicious?**\n",
    "\n",
    "5. **If you were a platform moderator, would you investigate further? What would you look at?**\n",
    "\n",
    "6. **Confidence level:** How certain are you? What could change your conclusion?\n",
    "\n",
    "\n",
    "### Write your conclusions here:\n",
    "\n",
    "[Space for analysis and conclusions]\n",
    "\n",
    "\n",
    "## Want More Challenge?\n",
    "\n",
    "- Compare specific topics (as content hashes) between worlds (which show the biggest difference?)\n",
    "- Find the \"most organic\" and \"most suspicious\" topics in World B\n",
    "- Design a real-time alert system: at what thresholds would you flag activity?\n",
    "\n",
    "## References\n",
    "\n",
    "- [references.md](../docs/references.md)\n",
    "- [references.bib](../docs/references.bib)"
   ]
  },
  {
   "cell_type": "code",
   "execution_count": 48,
   "metadata": {},
   "outputs": [
    {
     "name": "stdout",
     "output_type": "stream",
     "text": [
      "Analysis complete. Database connections closed.\n"
     ]
    }
   ],
   "source": [
    "# Clean up\n",
    "world_a.close()\n",
    "world_b.close()\n",
    "print(\"Analysis complete. Database connections closed.\")"
   ]
  }
 ],
 "metadata": {
  "kernelspec": {
   "display_name": ".venv (3.13.7)",
   "language": "python",
   "name": "python3"
  },
  "language_info": {
   "codemirror_mode": {
    "name": "ipython",
    "version": 3
   },
   "file_extension": ".py",
   "mimetype": "text/x-python",
   "name": "python",
   "nbconvert_exporter": "python",
   "pygments_lexer": "ipython3",
   "version": "3.13.7"
  }
 },
 "nbformat": 4,
 "nbformat_minor": 4
}
